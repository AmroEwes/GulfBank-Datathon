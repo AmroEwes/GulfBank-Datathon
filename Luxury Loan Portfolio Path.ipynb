{
 "cells": [
  {
   "cell_type": "markdown",
   "id": "070d6950",
   "metadata": {},
   "source": [
    "## Importing Libraries"
   ]
  },
  {
   "cell_type": "code",
   "execution_count": 1,
   "id": "1e3e3d74",
   "metadata": {},
   "outputs": [],
   "source": [
    "import pandas as pd\n",
    "import numpy as np\n",
    "import matplotlib.pyplot as plt\n",
    "import seaborn as sns\n",
    "sns.set()\n",
    "from sklearn.preprocessing import LabelEncoder,StandardScaler\n",
    "from sklearn.linear_model import LinearRegression,LogisticRegression\n",
    "from sklearn.metrics import accuracy_score,confusion_matrix,classification_report\n",
    "from sklearn.ensemble import RandomForestRegressor,RandomForestClassifier\n",
    "from sklearn.model_selection import train_test_split\n",
    "from sklearn.model_selection import RepeatedStratifiedKFold\n",
    "from sklearn.model_selection import GridSearchCV\n",
    "from sklearn.neighbors import KNeighborsRegressor,KNeighborsClassifier\n",
    "from sklearn.linear_model import RidgeCV\n",
    "from sklearn.linear_model import LassoCV\n",
    "from sklearn.model_selection import RepeatedKFold\n",
    "from sklearn.metrics import mean_squared_error\n",
    "import math\n",
    "import xgboost as xgb\n",
    "from sklearn.model_selection import cross_val_score\n",
    "from sklearn.gaussian_process import GaussianProcessClassifier"
   ]
  },
  {
   "cell_type": "markdown",
   "id": "d236345e",
   "metadata": {},
   "source": [
    "## Luxury Loan Portfolio Path:\n",
    "Level 1: Exploring (1 point per task)\n",
    "1. What are the min, max, and median funded amounts?\n",
    "2. What are the min, max, and average interest rates?\n",
    "3. What are the min, max, and median, average property value?\n",
    "4. What are the different “durations months” for the loans and how many loans are under each one?\n",
    "5. What are the different purposes for the luxury loans and how many loans are there per purpose?\n",
    "6. What are the 3 most common “total units” found in a property?\n",
    "7. What are the 3 most common “building class categories” loans are taken for?"
   ]
  },
  {
   "cell_type": "code",
   "execution_count": 2,
   "id": "b103b3a9",
   "metadata": {},
   "outputs": [
    {
     "data": {
      "text/html": [
       "<div>\n",
       "<style scoped>\n",
       "    .dataframe tbody tr th:only-of-type {\n",
       "        vertical-align: middle;\n",
       "    }\n",
       "\n",
       "    .dataframe tbody tr th {\n",
       "        vertical-align: top;\n",
       "    }\n",
       "\n",
       "    .dataframe thead th {\n",
       "        text-align: right;\n",
       "    }\n",
       "</style>\n",
       "<table border=\"1\" class=\"dataframe\">\n",
       "  <thead>\n",
       "    <tr style=\"text-align: right;\">\n",
       "      <th></th>\n",
       "      <th>funded_amount</th>\n",
       "      <th>funded_date</th>\n",
       "      <th>duration years</th>\n",
       "      <th>duration months</th>\n",
       "      <th>10 yr treasury index date funded</th>\n",
       "      <th>interest rate percent</th>\n",
       "      <th>interest rate</th>\n",
       "      <th>payments</th>\n",
       "      <th>total past payments</th>\n",
       "      <th>loan balance</th>\n",
       "      <th>...</th>\n",
       "      <th>BUILDING CLASS AT PRESENT</th>\n",
       "      <th>ADDRESS 1</th>\n",
       "      <th>ADDRESS 2</th>\n",
       "      <th>ZIP CODE</th>\n",
       "      <th>CITY</th>\n",
       "      <th>STATE</th>\n",
       "      <th>TOTAL UNITS</th>\n",
       "      <th>LAND SQUARE FEET</th>\n",
       "      <th>GROSS SQUARE FEET</th>\n",
       "      <th>TAX CLASS AT TIME OF SALE</th>\n",
       "    </tr>\n",
       "    <tr>\n",
       "      <th>loan_id</th>\n",
       "      <th></th>\n",
       "      <th></th>\n",
       "      <th></th>\n",
       "      <th></th>\n",
       "      <th></th>\n",
       "      <th></th>\n",
       "      <th></th>\n",
       "      <th></th>\n",
       "      <th></th>\n",
       "      <th></th>\n",
       "      <th></th>\n",
       "      <th></th>\n",
       "      <th></th>\n",
       "      <th></th>\n",
       "      <th></th>\n",
       "      <th></th>\n",
       "      <th></th>\n",
       "      <th></th>\n",
       "      <th></th>\n",
       "      <th></th>\n",
       "      <th></th>\n",
       "    </tr>\n",
       "  </thead>\n",
       "  <tbody>\n",
       "    <tr>\n",
       "      <th>LL0000076</th>\n",
       "      <td>790000.0</td>\n",
       "      <td>2012-04-27</td>\n",
       "      <td>20</td>\n",
       "      <td>240</td>\n",
       "      <td>1.96</td>\n",
       "      <td>3.359</td>\n",
       "      <td>0.03359</td>\n",
       "      <td>4524.65</td>\n",
       "      <td>92</td>\n",
       "      <td>373732.18</td>\n",
       "      <td>...</td>\n",
       "      <td>R1</td>\n",
       "      <td>171 SOUTH 9TH   STREET</td>\n",
       "      <td>9</td>\n",
       "      <td>10001</td>\n",
       "      <td>New York City</td>\n",
       "      <td>NY</td>\n",
       "      <td>1</td>\n",
       "      <td>0</td>\n",
       "      <td>0</td>\n",
       "      <td>2</td>\n",
       "    </tr>\n",
       "    <tr>\n",
       "      <th>LL0000151</th>\n",
       "      <td>1720000.0</td>\n",
       "      <td>2014-10-14</td>\n",
       "      <td>15</td>\n",
       "      <td>180</td>\n",
       "      <td>2.21</td>\n",
       "      <td>3.508</td>\n",
       "      <td>0.03508</td>\n",
       "      <td>12302.74</td>\n",
       "      <td>62</td>\n",
       "      <td>957230.24</td>\n",
       "      <td>...</td>\n",
       "      <td>R3</td>\n",
       "      <td>1242 E 80TH ST</td>\n",
       "      <td>19</td>\n",
       "      <td>10104</td>\n",
       "      <td>New York City</td>\n",
       "      <td>NY</td>\n",
       "      <td>1</td>\n",
       "      <td>0</td>\n",
       "      <td>0</td>\n",
       "      <td>1</td>\n",
       "    </tr>\n",
       "    <tr>\n",
       "      <th>LL0000161</th>\n",
       "      <td>3720000.0</td>\n",
       "      <td>2014-06-07</td>\n",
       "      <td>15</td>\n",
       "      <td>180</td>\n",
       "      <td>2.60</td>\n",
       "      <td>3.896</td>\n",
       "      <td>0.03896</td>\n",
       "      <td>27322.92</td>\n",
       "      <td>66</td>\n",
       "      <td>1916687.35</td>\n",
       "      <td>...</td>\n",
       "      <td>R3</td>\n",
       "      <td>1884 53RD STREET</td>\n",
       "      <td>2</td>\n",
       "      <td>10029</td>\n",
       "      <td>New York City</td>\n",
       "      <td>NY</td>\n",
       "      <td>1</td>\n",
       "      <td>0</td>\n",
       "      <td>0</td>\n",
       "      <td>1</td>\n",
       "    </tr>\n",
       "    <tr>\n",
       "      <th>LL0000175</th>\n",
       "      <td>1079000.0</td>\n",
       "      <td>2012-02-23</td>\n",
       "      <td>20</td>\n",
       "      <td>240</td>\n",
       "      <td>1.99</td>\n",
       "      <td>3.389</td>\n",
       "      <td>0.03389</td>\n",
       "      <td>6196.40</td>\n",
       "      <td>94</td>\n",
       "      <td>496538.75</td>\n",
       "      <td>...</td>\n",
       "      <td>R1</td>\n",
       "      <td>79 EAGLE STREET</td>\n",
       "      <td>6</td>\n",
       "      <td>10010</td>\n",
       "      <td>New York City</td>\n",
       "      <td>NY</td>\n",
       "      <td>1</td>\n",
       "      <td>0</td>\n",
       "      <td>0</td>\n",
       "      <td>2</td>\n",
       "    </tr>\n",
       "    <tr>\n",
       "      <th>LL0000178</th>\n",
       "      <td>2028000.0</td>\n",
       "      <td>2016-04-01</td>\n",
       "      <td>20</td>\n",
       "      <td>240</td>\n",
       "      <td>1.79</td>\n",
       "      <td>3.188</td>\n",
       "      <td>0.03188</td>\n",
       "      <td>11439.05</td>\n",
       "      <td>45</td>\n",
       "      <td>1513242.57</td>\n",
       "      <td>...</td>\n",
       "      <td>RW</td>\n",
       "      <td>34 NORTH 7TH   STREET</td>\n",
       "      <td>5</td>\n",
       "      <td>10172</td>\n",
       "      <td>New York City</td>\n",
       "      <td>NY</td>\n",
       "      <td>1</td>\n",
       "      <td>0</td>\n",
       "      <td>0</td>\n",
       "      <td>4</td>\n",
       "    </tr>\n",
       "  </tbody>\n",
       "</table>\n",
       "<p>5 rows × 31 columns</p>\n",
       "</div>"
      ],
      "text/plain": [
       "           funded_amount funded_date  duration years  duration months  \\\n",
       "loan_id                                                                 \n",
       "LL0000076       790000.0  2012-04-27              20              240   \n",
       "LL0000151      1720000.0  2014-10-14              15              180   \n",
       "LL0000161      3720000.0  2014-06-07              15              180   \n",
       "LL0000175      1079000.0  2012-02-23              20              240   \n",
       "LL0000178      2028000.0  2016-04-01              20              240   \n",
       "\n",
       "           10 yr treasury index date funded  interest rate percent  \\\n",
       "loan_id                                                              \n",
       "LL0000076                              1.96                  3.359   \n",
       "LL0000151                              2.21                  3.508   \n",
       "LL0000161                              2.60                  3.896   \n",
       "LL0000175                              1.99                  3.389   \n",
       "LL0000178                              1.79                  3.188   \n",
       "\n",
       "           interest rate  payments  total past payments  loan balance  ...  \\\n",
       "loan_id                                                                ...   \n",
       "LL0000076        0.03359   4524.65                   92     373732.18  ...   \n",
       "LL0000151        0.03508  12302.74                   62     957230.24  ...   \n",
       "LL0000161        0.03896  27322.92                   66    1916687.35  ...   \n",
       "LL0000175        0.03389   6196.40                   94     496538.75  ...   \n",
       "LL0000178        0.03188  11439.05                   45    1513242.57  ...   \n",
       "\n",
       "           BUILDING CLASS AT PRESENT               ADDRESS 1 ADDRESS 2  \\\n",
       "loan_id                                                                  \n",
       "LL0000076                         R1  171 SOUTH 9TH   STREET         9   \n",
       "LL0000151                         R3          1242 E 80TH ST        19   \n",
       "LL0000161                         R3        1884 53RD STREET         2   \n",
       "LL0000175                         R1         79 EAGLE STREET         6   \n",
       "LL0000178                         RW   34 NORTH 7TH   STREET         5   \n",
       "\n",
       "          ZIP CODE           CITY STATE TOTAL UNITS LAND SQUARE FEET  \\\n",
       "loan_id                                                                \n",
       "LL0000076    10001  New York City    NY           1                0   \n",
       "LL0000151    10104  New York City    NY           1                0   \n",
       "LL0000161    10029  New York City    NY           1                0   \n",
       "LL0000175    10010  New York City    NY           1                0   \n",
       "LL0000178    10172  New York City    NY           1                0   \n",
       "\n",
       "           GROSS SQUARE FEET TAX CLASS AT TIME OF SALE  \n",
       "loan_id                                                 \n",
       "LL0000076                  0                         2  \n",
       "LL0000151                  0                         1  \n",
       "LL0000161                  0                         1  \n",
       "LL0000175                  0                         2  \n",
       "LL0000178                  0                         4  \n",
       "\n",
       "[5 rows x 31 columns]"
      ]
     },
     "execution_count": 2,
     "metadata": {},
     "output_type": "execute_result"
    }
   ],
   "source": [
    "luxury_loan_data = pd.read_csv('LuxuryLoanPortfolio.csv')\n",
    "luxury_loan_data = luxury_loan_data.set_index('loan_id')\n",
    "luxury_loan_data.head()"
   ]
  },
  {
   "cell_type": "markdown",
   "id": "8facb160",
   "metadata": {},
   "source": [
    "1. What are the min, max, and median funded amounts?"
   ]
  },
  {
   "cell_type": "code",
   "execution_count": 3,
   "id": "de447c09",
   "metadata": {},
   "outputs": [
    {
     "name": "stdout",
     "output_type": "stream",
     "text": [
      "min funded amounts is 440000.0\n",
      "max funded amounts is 156000000.0\n",
      "median funded amounts is 1490000.0\n"
     ]
    }
   ],
   "source": [
    "print('min funded amounts is',luxury_loan_data['funded_amount'].min())\n",
    "print('max funded amounts is',luxury_loan_data['funded_amount'].max())\n",
    "print('median funded amounts is',luxury_loan_data['funded_amount'].median())"
   ]
  },
  {
   "cell_type": "markdown",
   "id": "a99d6032",
   "metadata": {},
   "source": [
    "2. What are the min, max, and average interest rates?"
   ]
  },
  {
   "cell_type": "code",
   "execution_count": 4,
   "id": "58e6b29a",
   "metadata": {},
   "outputs": [
    {
     "name": "stdout",
     "output_type": "stream",
     "text": [
      "min interest rate is 0.02648\n",
      "max interest rate is 0.04828\n",
      "mean interest rate is 0.038003945172824787\n"
     ]
    }
   ],
   "source": [
    "print('min interest rate is',luxury_loan_data['interest rate'].min())\n",
    "print('max interest rate is',luxury_loan_data['interest rate'].max())\n",
    "print('mean interest rate is',luxury_loan_data['interest rate'].mean())"
   ]
  },
  {
   "cell_type": "markdown",
   "id": "67bcbbe6",
   "metadata": {},
   "source": [
    "3. What are the min, max, and median, average property value?"
   ]
  },
  {
   "cell_type": "code",
   "execution_count": 5,
   "id": "dc86d435",
   "metadata": {},
   "outputs": [
    {
     "name": "stdout",
     "output_type": "stream",
     "text": [
      "min property value is 473200.0\n",
      "max property value is 156020900.0\n",
      "mean property value is 2012218.831942789\n",
      "median property value is 1653925.0\n"
     ]
    }
   ],
   "source": [
    "print('min property value is',luxury_loan_data['property value'].min())\n",
    "print('max property value is',luxury_loan_data['property value'].max())\n",
    "print('mean property value is',luxury_loan_data['property value'].mean())\n",
    "print('median property value is',luxury_loan_data['property value'].median())"
   ]
  },
  {
   "cell_type": "markdown",
   "id": "f0dfb6e7",
   "metadata": {},
   "source": [
    "4. What are the different “durations months” for the loans and how many loans are under each one?"
   ]
  },
  {
   "cell_type": "code",
   "execution_count": 6,
   "id": "d3a817b1",
   "metadata": {},
   "outputs": [
    {
     "data": {
      "text/plain": [
       "360    1369\n",
       "180     255\n",
       "240      48\n",
       "120       6\n",
       "Name: duration months, dtype: int64"
      ]
     },
     "execution_count": 6,
     "metadata": {},
     "output_type": "execute_result"
    }
   ],
   "source": [
    "luxury_loan_data['duration months'].value_counts()"
   ]
  },
  {
   "cell_type": "markdown",
   "id": "9ab772fd",
   "metadata": {},
   "source": [
    "5. What are the different purposes for the luxury loans and how many loans are there per purpose?"
   ]
  },
  {
   "cell_type": "code",
   "execution_count": 7,
   "id": "806e6e47",
   "metadata": {},
   "outputs": [
    {
     "data": {
      "text/plain": [
       "investment property    536\n",
       "home                   533\n",
       "commerical property    520\n",
       "boat                    62\n",
       "plane                   27\n",
       "Name: purpose, dtype: int64"
      ]
     },
     "execution_count": 7,
     "metadata": {},
     "output_type": "execute_result"
    }
   ],
   "source": [
    "luxury_loan_data['purpose'].value_counts()"
   ]
  },
  {
   "cell_type": "markdown",
   "id": "ee3fb87b",
   "metadata": {},
   "source": [
    "6. What are the 3 most common “total units” found in a property?"
   ]
  },
  {
   "cell_type": "code",
   "execution_count": 8,
   "id": "89ce357f",
   "metadata": {},
   "outputs": [
    {
     "data": {
      "text/plain": [
       "1    1189\n",
       "4     161\n",
       "6     107\n",
       "Name: TOTAL UNITS, dtype: int64"
      ]
     },
     "execution_count": 8,
     "metadata": {},
     "output_type": "execute_result"
    }
   ],
   "source": [
    "luxury_loan_data['TOTAL UNITS'].value_counts().head(3)"
   ]
  },
  {
   "cell_type": "markdown",
   "id": "f688857c",
   "metadata": {},
   "source": [
    "7. What are the 3 most common “building class categories” loans are taken for?"
   ]
  },
  {
   "cell_type": "code",
   "execution_count": 9,
   "id": "342e117c",
   "metadata": {},
   "outputs": [
    {
     "data": {
      "text/plain": [
       "15 CONDOS - 2-10 UNIT RESIDENTIAL              466\n",
       "07 RENTALS - WALKUP APARTMENTS                 367\n",
       "04 TAX CLASS 1 CONDOS                          348\n",
       "Name: BUILDING CLASS CATEGORY, dtype: int64"
      ]
     },
     "execution_count": 9,
     "metadata": {},
     "output_type": "execute_result"
    }
   ],
   "source": [
    "luxury_loan_data['BUILDING CLASS CATEGORY'].value_counts().head(3)"
   ]
  },
  {
   "cell_type": "markdown",
   "id": "b31a9c16",
   "metadata": {},
   "source": [
    "## Level 2: Analyzing (3 points per task)\n",
    "1. Create bins for property value:\n",
    "a. '-1M'\n",
    "b. '1M-2M'\n",
    "c. '2M-3M'\n",
    "d. '3M+'\n",
    "2. Create bins for employment length:\n",
    "a. '-5'\n",
    "b. '5-10'\n",
    "c. '10-15'\n",
    "d. '15+'\n",
    "3. Analyze how interest rates differ according to different loan purposes. Visualize this.\n",
    "4. Identify the building class category that is most profitable.\n",
    "a. Using funded amount and interest rate\n",
    "5. Which \"purpose\" generates the most value?"
   ]
  },
  {
   "cell_type": "code",
   "execution_count": 3,
   "id": "76dbc329",
   "metadata": {},
   "outputs": [],
   "source": [
    "luxury_loan_data['property_value_bins'] = ''\n",
    "\n",
    "luxury_loan_data['property_value_bins'] = np.where(luxury_loan_data['property value'] < 1000000,\n",
    "                                                  '-1M',luxury_loan_data['property_value_bins'])\n",
    "luxury_loan_data['property_value_bins'] = np.where((luxury_loan_data['property value'] >= 1000000)\n",
    "                                                   & (luxury_loan_data['property value'] < 2000000),\n",
    "                                                  '1M-2M',luxury_loan_data['property_value_bins'])\n",
    "luxury_loan_data['property_value_bins'] = np.where((luxury_loan_data['property value'] >= 2000000)\n",
    "                                                   & (luxury_loan_data['property value'] < 3000000),\n",
    "                                                  '2M-3M',luxury_loan_data['property_value_bins'])\n",
    "luxury_loan_data['property_value_bins'] = np.where((luxury_loan_data['property value'] >= 3000000),\n",
    "                                                  '3M+',luxury_loan_data['property_value_bins'])"
   ]
  },
  {
   "cell_type": "markdown",
   "id": "b56f8c28",
   "metadata": {},
   "source": [
    "2. Create bins for employment length:\n",
    "a. '-5'\n",
    "b. '5-10'\n",
    "c. '10-15'\n",
    "d. '15+"
   ]
  },
  {
   "cell_type": "code",
   "execution_count": 4,
   "id": "7f5baf9e",
   "metadata": {},
   "outputs": [],
   "source": [
    "luxury_loan_data['employment_length_bins'] = ''\n",
    "\n",
    "luxury_loan_data['employment_length_bins'] = np.where(luxury_loan_data['employment length'] < 5,\n",
    "                                                  '-5',luxury_loan_data['employment_length_bins'])\n",
    "luxury_loan_data['employment_length_bins'] = np.where((luxury_loan_data['employment length'] >= 5)\n",
    "                                                   & (luxury_loan_data['employment length'] < 10),\n",
    "                                                  '5-10',luxury_loan_data['employment_length_bins'])\n",
    "luxury_loan_data['employment_length_bins'] = np.where((luxury_loan_data['employment length'] >= 10)\n",
    "                                                   & (luxury_loan_data['employment length'] < 15),\n",
    "                                                  '10-15',luxury_loan_data['employment_length_bins'])\n",
    "luxury_loan_data['employment_length_bins'] = np.where((luxury_loan_data['employment length'] >= 15),\n",
    "                                                  '15+',luxury_loan_data['employment_length_bins'])"
   ]
  },
  {
   "cell_type": "markdown",
   "id": "c7d118e9",
   "metadata": {},
   "source": [
    "3. Analyze how interest rates differ according to different loan purposes. Visualize this."
   ]
  },
  {
   "cell_type": "code",
   "execution_count": 12,
   "id": "58a9ed42",
   "metadata": {},
   "outputs": [
    {
     "data": {
      "text/html": [
       "<div>\n",
       "<style scoped>\n",
       "    .dataframe tbody tr th:only-of-type {\n",
       "        vertical-align: middle;\n",
       "    }\n",
       "\n",
       "    .dataframe tbody tr th {\n",
       "        vertical-align: top;\n",
       "    }\n",
       "\n",
       "    .dataframe thead th {\n",
       "        text-align: right;\n",
       "    }\n",
       "</style>\n",
       "<table border=\"1\" class=\"dataframe\">\n",
       "  <thead>\n",
       "    <tr style=\"text-align: right;\">\n",
       "      <th></th>\n",
       "      <th>interest rate</th>\n",
       "    </tr>\n",
       "    <tr>\n",
       "      <th>purpose</th>\n",
       "      <th></th>\n",
       "    </tr>\n",
       "  </thead>\n",
       "  <tbody>\n",
       "    <tr>\n",
       "      <th>boat</th>\n",
       "      <td>0.036180</td>\n",
       "    </tr>\n",
       "    <tr>\n",
       "      <th>commerical property</th>\n",
       "      <td>0.038126</td>\n",
       "    </tr>\n",
       "    <tr>\n",
       "      <th>home</th>\n",
       "      <td>0.038266</td>\n",
       "    </tr>\n",
       "    <tr>\n",
       "      <th>investment property</th>\n",
       "      <td>0.037938</td>\n",
       "    </tr>\n",
       "    <tr>\n",
       "      <th>plane</th>\n",
       "      <td>0.035971</td>\n",
       "    </tr>\n",
       "  </tbody>\n",
       "</table>\n",
       "</div>"
      ],
      "text/plain": [
       "                     interest rate\n",
       "purpose                           \n",
       "boat                      0.036180\n",
       "commerical property       0.038126\n",
       "home                      0.038266\n",
       "investment property       0.037938\n",
       "plane                     0.035971"
      ]
     },
     "execution_count": 12,
     "metadata": {},
     "output_type": "execute_result"
    }
   ],
   "source": [
    "loan_purpose = pd.DataFrame(luxury_loan_data.groupby(['purpose'])['interest rate'].mean())\n",
    "loan_purpose"
   ]
  },
  {
   "cell_type": "code",
   "execution_count": 13,
   "id": "d1767363",
   "metadata": {},
   "outputs": [
    {
     "data": {
      "text/plain": [
       "<AxesSubplot:xlabel='purpose'>"
      ]
     },
     "execution_count": 13,
     "metadata": {},
     "output_type": "execute_result"
    },
    {
     "data": {
      "image/png": "[encoded data removed]",
      "text/plain": [
       "<Figure size 640x480 with 1 Axes>"
      ]
     },
     "metadata": {},
     "output_type": "display_data"
    }
   ],
   "source": [
    "pd.DataFrame(luxury_loan_data.groupby(['purpose'])['interest rate'].mean()).plot()"
   ]
  },
  {
   "cell_type": "code",
   "execution_count": 14,
   "id": "b805a5f2",
   "metadata": {},
   "outputs": [
    {
     "data": {
      "text/plain": [
       "Text(0.5, 1.0, 'Average Interest rate cross different purposes')"
      ]
     },
     "execution_count": 14,
     "metadata": {},
     "output_type": "execute_result"
    },
    {
     "data": {
      "image/png": "[encoded data removed]",
      "text/plain": [
       "<Figure size 900x400 with 1 Axes>"
      ]
     },
     "metadata": {},
     "output_type": "display_data"
    }
   ],
   "source": [
    "plt.figure(figsize=(9,4))\n",
    "plt.bar(loan_purpose.index,loan_purpose['interest rate'])\n",
    "plt.xlabel('purpose')\n",
    "plt.ylabel('Average Interest rate')\n",
    "plt.title('Average Interest rate cross different purposes')"
   ]
  },
  {
   "cell_type": "markdown",
   "id": "3b2cc0ef",
   "metadata": {},
   "source": [
    "4. Identify the building class category that is most profitable.\n",
    "\n",
    "a. Using funded amount and interest rate"
   ]
  },
  {
   "cell_type": "code",
   "execution_count": 15,
   "id": "904c9c65",
   "metadata": {},
   "outputs": [],
   "source": [
    "luxury_loan_data['profit'] = luxury_loan_data['funded_amount'] * luxury_loan_data['interest rate']"
   ]
  },
  {
   "cell_type": "code",
   "execution_count": 16,
   "id": "e0dfa0d9",
   "metadata": {},
   "outputs": [
    {
     "data": {
      "text/plain": [
       "BUILDING CLASS CATEGORY\n",
       "15 CONDOS - 2-10 UNIT RESIDENTIAL              3.408544e+07\n",
       "Name: profit, dtype: float64"
      ]
     },
     "execution_count": 16,
     "metadata": {},
     "output_type": "execute_result"
    }
   ],
   "source": [
    "luxury_loan_data.groupby(['BUILDING CLASS CATEGORY'])['profit'].sum().sort_values(ascending=False).head(1)"
   ]
  },
  {
   "cell_type": "markdown",
   "id": "47a28a46",
   "metadata": {},
   "source": [
    "5. Which \"purpose\" generates the most value?"
   ]
  },
  {
   "cell_type": "code",
   "execution_count": 17,
   "id": "3f1251be",
   "metadata": {},
   "outputs": [
    {
     "data": {
      "text/plain": [
       "purpose\n",
       "investment property    3.544920e+07\n",
       "Name: profit, dtype: float64"
      ]
     },
     "execution_count": 17,
     "metadata": {},
     "output_type": "execute_result"
    }
   ],
   "source": [
    "luxury_loan_data.groupby(['purpose'])['profit'].sum().sort_values(ascending=False).head(1)"
   ]
  },
  {
   "cell_type": "markdown",
   "id": "716eb62c",
   "metadata": {},
   "source": [
    "## Level 3: Modeling\n",
    "1. Create a model to predict the “property value” (15 points)\n",
    "a. Try out at least 3 different models, and comment on why you chose these models\n",
    "b. Measure accuracy (at least one model should have accuracy of 80% or higher)\n",
    "2. Create a model to predict the transaction “employment length” (5 points)\n",
    "a. Try out at least 3 different models, and comment on why you chose these models\n",
    "b. Measure accuracy (at least one model should have accuracy of 80% or higher)\n",
    "3. Time to clean up your work. Organize your notebook, gather your findings, prepare recommendations and\n",
    "get ready to present them."
   ]
  },
  {
   "cell_type": "code",
   "execution_count": 6,
   "id": "e65e1911",
   "metadata": {},
   "outputs": [],
   "source": [
    "raw_data = luxury_loan_data.copy()"
   ]
  },
  {
   "cell_type": "code",
   "execution_count": 7,
   "id": "ea6aaa39",
   "metadata": {},
   "outputs": [
    {
     "data": {
      "text/plain": [
       "funded_amount                        0\n",
       "funded_date                          0\n",
       "duration years                       0\n",
       "duration months                      0\n",
       "10 yr treasury index date funded     0\n",
       "interest rate percent                0\n",
       "interest rate                        0\n",
       "payments                             0\n",
       "total past payments                  0\n",
       "loan balance                         0\n",
       "property value                       0\n",
       "purpose                              0\n",
       "firstname                            0\n",
       "middlename                           0\n",
       "lastname                             0\n",
       "social                               0\n",
       "phone                                0\n",
       "title                               12\n",
       "employment length                    0\n",
       "BUILDING CLASS CATEGORY              0\n",
       "TAX CLASS AT PRESENT                 0\n",
       "BUILDING CLASS AT PRESENT            0\n",
       "ADDRESS 1                            0\n",
       "ADDRESS 2                            0\n",
       "ZIP CODE                             0\n",
       "CITY                                 0\n",
       "STATE                                0\n",
       "TOTAL UNITS                          0\n",
       "LAND SQUARE FEET                     0\n",
       "GROSS SQUARE FEET                    0\n",
       "TAX CLASS AT TIME OF SALE            0\n",
       "property_value_bins                  0\n",
       "employment_length_bins               0\n",
       "dtype: int64"
      ]
     },
     "execution_count": 7,
     "metadata": {},
     "output_type": "execute_result"
    }
   ],
   "source": [
    "raw_data.isnull().sum()"
   ]
  },
  {
   "cell_type": "code",
   "execution_count": 8,
   "id": "ca011f81",
   "metadata": {},
   "outputs": [],
   "source": [
    "raw_data.fillna(raw_data['title'].mode()[0],inplace=True)"
   ]
  },
  {
   "cell_type": "code",
   "execution_count": 9,
   "id": "2d166f60",
   "metadata": {},
   "outputs": [],
   "source": [
    "numeric_columns = [columns_names for columns_names in raw_data.columns if raw_data[columns_names].dtypes != 'object']"
   ]
  },
  {
   "cell_type": "code",
   "execution_count": 10,
   "id": "8e2fb9a9",
   "metadata": {},
   "outputs": [],
   "source": [
    "cat_col = [columns_names for columns_names in raw_data.columns if raw_data[columns_names].dtypes == 'object']"
   ]
  },
  {
   "cell_type": "code",
   "execution_count": 11,
   "id": "3988f771",
   "metadata": {},
   "outputs": [],
   "source": [
    "cat_col = [column_names for column_names in cat_col if len(raw_data[column_names].unique()) <= 7]"
   ]
  },
  {
   "cell_type": "code",
   "execution_count": 24,
   "id": "5b6e5ac8",
   "metadata": {},
   "outputs": [
    {
     "data": {
      "text/html": [
       "<div>\n",
       "<style scoped>\n",
       "    .dataframe tbody tr th:only-of-type {\n",
       "        vertical-align: middle;\n",
       "    }\n",
       "\n",
       "    .dataframe tbody tr th {\n",
       "        vertical-align: top;\n",
       "    }\n",
       "\n",
       "    .dataframe thead th {\n",
       "        text-align: right;\n",
       "    }\n",
       "</style>\n",
       "<table border=\"1\" class=\"dataframe\">\n",
       "  <thead>\n",
       "    <tr style=\"text-align: right;\">\n",
       "      <th></th>\n",
       "      <th>Most Correlated Features</th>\n",
       "    </tr>\n",
       "  </thead>\n",
       "  <tbody>\n",
       "    <tr>\n",
       "      <th>0</th>\n",
       "      <td>property value</td>\n",
       "    </tr>\n",
       "    <tr>\n",
       "      <th>1</th>\n",
       "      <td>funded_amount</td>\n",
       "    </tr>\n",
       "    <tr>\n",
       "      <th>2</th>\n",
       "      <td>profit</td>\n",
       "    </tr>\n",
       "    <tr>\n",
       "      <th>3</th>\n",
       "      <td>payments</td>\n",
       "    </tr>\n",
       "    <tr>\n",
       "      <th>4</th>\n",
       "      <td>loan balance</td>\n",
       "    </tr>\n",
       "    <tr>\n",
       "      <th>5</th>\n",
       "      <td>TAX CLASS AT TIME OF SALE</td>\n",
       "    </tr>\n",
       "    <tr>\n",
       "      <th>6</th>\n",
       "      <td>10 yr treasury index date funded</td>\n",
       "    </tr>\n",
       "    <tr>\n",
       "      <th>7</th>\n",
       "      <td>interest rate percent</td>\n",
       "    </tr>\n",
       "    <tr>\n",
       "      <th>8</th>\n",
       "      <td>interest rate</td>\n",
       "    </tr>\n",
       "    <tr>\n",
       "      <th>9</th>\n",
       "      <td>TOTAL UNITS</td>\n",
       "    </tr>\n",
       "  </tbody>\n",
       "</table>\n",
       "</div>"
      ],
      "text/plain": [
       "           Most Correlated Features\n",
       "0                    property value\n",
       "1                     funded_amount\n",
       "2                            profit\n",
       "3                          payments\n",
       "4                      loan balance\n",
       "5         TAX CLASS AT TIME OF SALE\n",
       "6  10 yr treasury index date funded\n",
       "7             interest rate percent\n",
       "8                     interest rate\n",
       "9                       TOTAL UNITS"
      ]
     },
     "execution_count": 24,
     "metadata": {},
     "output_type": "execute_result"
    }
   ],
   "source": [
    "correlation = raw_data.corr()\n",
    "k = 10\n",
    "cols = correlation.nlargest(k,'property value')['property value'].index\n",
    "corr_feat = pd.DataFrame(cols)\n",
    "corr_feat.columns = ['Most Correlated Features']\n",
    "corr_feat"
   ]
  },
  {
   "cell_type": "code",
   "execution_count": 25,
   "id": "56e5209f",
   "metadata": {},
   "outputs": [
    {
     "data": {
      "text/plain": [
       "<AxesSubplot:>"
      ]
     },
     "execution_count": 25,
     "metadata": {},
     "output_type": "execute_result"
    },
    {
     "data": {
      "image/png": "[encoded data removed]",
      "text/plain": [
       "<Figure size 1000x600 with 2 Axes>"
      ]
     },
     "metadata": {},
     "output_type": "display_data"
    }
   ],
   "source": [
    "plt.figure(figsize=(10,6))\n",
    "sns.heatmap(raw_data[cols].corr(),vmin=-1,vmax=1,annot=True,cmap='magma')"
   ]
  },
  {
   "cell_type": "code",
   "execution_count": 12,
   "id": "56035766",
   "metadata": {},
   "outputs": [],
   "source": [
    "features = ['funded_amount','payments','loan balance','profit','property value'] + cat_col"
   ]
  },
  {
   "cell_type": "code",
   "execution_count": 13,
   "id": "4001b9f9",
   "metadata": {},
   "outputs": [],
   "source": [
    "features = numeric_columns + cat_col"
   ]
  },
  {
   "cell_type": "code",
   "execution_count": 14,
   "id": "381a2982",
   "metadata": {},
   "outputs": [],
   "source": [
    "raw_data = raw_data[features]"
   ]
  },
  {
   "cell_type": "code",
   "execution_count": 15,
   "id": "baabb539",
   "metadata": {},
   "outputs": [],
   "source": [
    "raw_data = pd.get_dummies(raw_data,columns=cat_col,drop_first=True)"
   ]
  },
  {
   "cell_type": "code",
   "execution_count": 16,
   "id": "aea12a19",
   "metadata": {},
   "outputs": [],
   "source": [
    "inputs = raw_data.drop('property value',axis=1)\n",
    "target = raw_data['property value']"
   ]
  },
  {
   "cell_type": "code",
   "execution_count": 17,
   "id": "0fe64cfa",
   "metadata": {},
   "outputs": [],
   "source": [
    "x_train,x_test,y_train,y_test = train_test_split(inputs,target,test_size=0.15,random_state=1234)"
   ]
  },
  {
   "cell_type": "code",
   "execution_count": 18,
   "id": "2b7b9985",
   "metadata": {},
   "outputs": [],
   "source": [
    "scaler = StandardScaler()\n",
    "\n",
    "x_train = scaler.fit_transform(x_train)\n",
    "x_test = scaler.transform(x_test)"
   ]
  },
  {
   "cell_type": "markdown",
   "id": "3d4c70a0",
   "metadata": {},
   "source": [
    "## Model 1"
   ]
  },
  {
   "cell_type": "code",
   "execution_count": 33,
   "id": "d79647f8",
   "metadata": {},
   "outputs": [
    {
     "data": {
      "text/html": [
       "<style>#sk-container-id-1 {color: black;background-color: white;}#sk-container-id-1 pre{padding: 0;}#sk-container-id-1 div.sk-toggleable {background-color: white;}#sk-container-id-1 label.sk-toggleable__label {cursor: pointer;display: block;width: 100%;margin-bottom: 0;padding: 0.3em;box-sizing: border-box;text-align: center;}#sk-container-id-1 label.sk-toggleable__label-arrow:before {content: \"▸\";float: left;margin-right: 0.25em;color: #696969;}#sk-container-id-1 label.sk-toggleable__label-arrow:hover:before {color: black;}#sk-container-id-1 div.sk-estimator:hover label.sk-toggleable__label-arrow:before {color: black;}#sk-container-id-1 div.sk-toggleable__content {max-height: 0;max-width: 0;overflow: hidden;text-align: left;background-color: #f0f8ff;}#sk-container-id-1 div.sk-toggleable__content pre {margin: 0.2em;color: black;border-radius: 0.25em;background-color: #f0f8ff;}#sk-container-id-1 input.sk-toggleable__control:checked~div.sk-toggleable__content {max-height: 200px;max-width: 100%;overflow: auto;}#sk-container-id-1 input.sk-toggleable__control:checked~label.sk-toggleable__label-arrow:before {content: \"▾\";}#sk-container-id-1 div.sk-estimator input.sk-toggleable__control:checked~label.sk-toggleable__label {background-color: #d4ebff;}#sk-container-id-1 div.sk-label input.sk-toggleable__control:checked~label.sk-toggleable__label {background-color: #d4ebff;}#sk-container-id-1 input.sk-hidden--visually {border: 0;clip: rect(1px 1px 1px 1px);clip: rect(1px, 1px, 1px, 1px);height: 1px;margin: -1px;overflow: hidden;padding: 0;position: absolute;width: 1px;}#sk-container-id-1 div.sk-estimator {font-family: monospace;background-color: #f0f8ff;border: 1px dotted black;border-radius: 0.25em;box-sizing: border-box;margin-bottom: 0.5em;}#sk-container-id-1 div.sk-estimator:hover {background-color: #d4ebff;}#sk-container-id-1 div.sk-parallel-item::after {content: \"\";width: 100%;border-bottom: 1px solid gray;flex-grow: 1;}#sk-container-id-1 div.sk-label:hover label.sk-toggleable__label {background-color: #d4ebff;}#sk-container-id-1 div.sk-serial::before {content: \"\";position: absolute;border-left: 1px solid gray;box-sizing: border-box;top: 0;bottom: 0;left: 50%;z-index: 0;}#sk-container-id-1 div.sk-serial {display: flex;flex-direction: column;align-items: center;background-color: white;padding-right: 0.2em;padding-left: 0.2em;position: relative;}#sk-container-id-1 div.sk-item {position: relative;z-index: 1;}#sk-container-id-1 div.sk-parallel {display: flex;align-items: stretch;justify-content: center;background-color: white;position: relative;}#sk-container-id-1 div.sk-item::before, #sk-container-id-1 div.sk-parallel-item::before {content: \"\";position: absolute;border-left: 1px solid gray;box-sizing: border-box;top: 0;bottom: 0;left: 50%;z-index: -1;}#sk-container-id-1 div.sk-parallel-item {display: flex;flex-direction: column;z-index: 1;position: relative;background-color: white;}#sk-container-id-1 div.sk-parallel-item:first-child::after {align-self: flex-end;width: 50%;}#sk-container-id-1 div.sk-parallel-item:last-child::after {align-self: flex-start;width: 50%;}#sk-container-id-1 div.sk-parallel-item:only-child::after {width: 0;}#sk-container-id-1 div.sk-dashed-wrapped {border: 1px dashed gray;margin: 0 0.4em 0.5em 0.4em;box-sizing: border-box;padding-bottom: 0.4em;background-color: white;}#sk-container-id-1 div.sk-label label {font-family: monospace;font-weight: bold;display: inline-block;line-height: 1.2em;}#sk-container-id-1 div.sk-label-container {text-align: center;}#sk-container-id-1 div.sk-container {/* jupyter's `normalize.less` sets `[hidden] { display: none; }` but bootstrap.min.css set `[hidden] { display: none !important; }` so we also need the `!important` here to be able to override the default hidden behavior on the sphinx rendered scikit-learn.org. See: https://github.com/scikit-learn/scikit-learn/issues/21755 */display: inline-block !important;position: relative;}#sk-container-id-1 div.sk-text-repr-fallback {display: none;}</style><div id=\"sk-container-id-1\" class=\"sk-top-container\"><div class=\"sk-text-repr-fallback\"><pre>LinearRegression()</pre><b>In a Jupyter environment, please rerun this cell to show the HTML representation or trust the notebook. <br />On GitHub, the HTML representation is unable to render, please try loading this page with nbviewer.org.</b></div><div class=\"sk-container\" hidden><div class=\"sk-item\"><div class=\"sk-estimator sk-toggleable\"><input class=\"sk-toggleable__control sk-hidden--visually\" id=\"sk-estimator-id-1\" type=\"checkbox\" checked><label for=\"sk-estimator-id-1\" class=\"sk-toggleable__label sk-toggleable__label-arrow\">LinearRegression</label><div class=\"sk-toggleable__content\"><pre>LinearRegression()</pre></div></div></div></div></div>"
      ],
      "text/plain": [
       "LinearRegression()"
      ]
     },
     "execution_count": 33,
     "metadata": {},
     "output_type": "execute_result"
    }
   ],
   "source": [
    "model_1 = LinearRegression()\n",
    "model_1.fit(x_train, y_train)"
   ]
  },
  {
   "cell_type": "code",
   "execution_count": 34,
   "id": "9c9b1e22",
   "metadata": {},
   "outputs": [
    {
     "name": "stdout",
     "output_type": "stream",
     "text": [
      "Linear Regression coefficients are:  [ 3.99422197e+06  5.97779263e+05  5.97779263e+05  4.68652963e+06\n",
      " -2.30476787e+06 -2.51246754e+06  9.02000906e+04  4.64803680e+04\n",
      "  4.28371638e+04 -5.44237740e+03 -7.90431146e+02  1.15741763e+03\n",
      "  3.93343541e+03  8.08032076e+04  8.74344347e+02  3.21468699e+03\n",
      "  2.58282374e+03 -8.14044283e+02  1.25996353e+04  1.51811660e+04\n",
      "  1.72065986e+04  5.46712148e+03  5.52673448e+03  2.03011309e+03]\n",
      "Linear Regression y-intercept is:  2029792.0056100923\n"
     ]
    }
   ],
   "source": [
    "print(\"Linear Regression coefficients are: \",model_1.coef_)\n",
    "print(\"Linear Regression y-intercept is: \",model_1.intercept_)"
   ]
  },
  {
   "cell_type": "code",
   "execution_count": 35,
   "id": "8e8e7adc",
   "metadata": {},
   "outputs": [],
   "source": [
    "y_pred_1 = model_1.predict(x_test)\n",
    "comp = pd.DataFrame({'Predicted': y_pred_1, 'Actual': y_test})"
   ]
  },
  {
   "cell_type": "code",
   "execution_count": 36,
   "id": "bd488d26",
   "metadata": {},
   "outputs": [
    {
     "name": "stdout",
     "output_type": "stream",
     "text": [
      "Linear Regression Model RMSE is:  66563.63228013857\n",
      "Linear Regression Model Training Score:  0.999760560592662\n",
      "Linear Regression Model Testing Score:  0.9968411187323734\n"
     ]
    }
   ],
   "source": [
    "print(\"Linear Regression Model RMSE is: \", math.sqrt(mean_squared_error(y_test, y_pred_1)))\n",
    "print(\"Linear Regression Model Training Score: \",model_1.score(x_train, y_train))\n",
    "print(\"Linear Regression Model Testing Score: \",model_1.score(x_test, y_test))"
   ]
  },
  {
   "cell_type": "markdown",
   "id": "99b2dd00",
   "metadata": {},
   "source": [
    "## Model_2"
   ]
  },
  {
   "cell_type": "code",
   "execution_count": 37,
   "id": "d5588578",
   "metadata": {},
   "outputs": [
    {
     "data": {
      "text/plain": [
       "(0.902544450896985, {'max_depth': 20, 'n_estimators': 20})"
      ]
     },
     "execution_count": 37,
     "metadata": {},
     "output_type": "execute_result"
    }
   ],
   "source": [
    "model_2 = RandomForestRegressor()\n",
    "\n",
    "parameters=[{'n_estimators':[20,30,40,60,100], 'max_depth':  \n",
    "             [5,10,15,20]},\n",
    "             {'n_estimators':[20,30,40,60,100], 'max_depth': \n",
    "             [5,10,15,20],'max_features':[2,5,8]}]\n",
    "             \n",
    "grid_search = GridSearchCV(estimator=model_2,\n",
    "                           param_grid=parameters,\n",
    "                           cv=10,\n",
    "                           n_jobs=-1)\n",
    "                           \n",
    "grid = grid_search.fit(x_train,y_train)\n",
    "grid.best_score_,grid.best_params_"
   ]
  },
  {
   "cell_type": "code",
   "execution_count": 88,
   "id": "81df7900",
   "metadata": {},
   "outputs": [
    {
     "data": {
      "text/html": [
       "<style>#sk-container-id-27 {color: black;background-color: white;}#sk-container-id-27 pre{padding: 0;}#sk-container-id-27 div.sk-toggleable {background-color: white;}#sk-container-id-27 label.sk-toggleable__label {cursor: pointer;display: block;width: 100%;margin-bottom: 0;padding: 0.3em;box-sizing: border-box;text-align: center;}#sk-container-id-27 label.sk-toggleable__label-arrow:before {content: \"▸\";float: left;margin-right: 0.25em;color: #696969;}#sk-container-id-27 label.sk-toggleable__label-arrow:hover:before {color: black;}#sk-container-id-27 div.sk-estimator:hover label.sk-toggleable__label-arrow:before {color: black;}#sk-container-id-27 div.sk-toggleable__content {max-height: 0;max-width: 0;overflow: hidden;text-align: left;background-color: #f0f8ff;}#sk-container-id-27 div.sk-toggleable__content pre {margin: 0.2em;color: black;border-radius: 0.25em;background-color: #f0f8ff;}#sk-container-id-27 input.sk-toggleable__control:checked~div.sk-toggleable__content {max-height: 200px;max-width: 100%;overflow: auto;}#sk-container-id-27 input.sk-toggleable__control:checked~label.sk-toggleable__label-arrow:before {content: \"▾\";}#sk-container-id-27 div.sk-estimator input.sk-toggleable__control:checked~label.sk-toggleable__label {background-color: #d4ebff;}#sk-container-id-27 div.sk-label input.sk-toggleable__control:checked~label.sk-toggleable__label {background-color: #d4ebff;}#sk-container-id-27 input.sk-hidden--visually {border: 0;clip: rect(1px 1px 1px 1px);clip: rect(1px, 1px, 1px, 1px);height: 1px;margin: -1px;overflow: hidden;padding: 0;position: absolute;width: 1px;}#sk-container-id-27 div.sk-estimator {font-family: monospace;background-color: #f0f8ff;border: 1px dotted black;border-radius: 0.25em;box-sizing: border-box;margin-bottom: 0.5em;}#sk-container-id-27 div.sk-estimator:hover {background-color: #d4ebff;}#sk-container-id-27 div.sk-parallel-item::after {content: \"\";width: 100%;border-bottom: 1px solid gray;flex-grow: 1;}#sk-container-id-27 div.sk-label:hover label.sk-toggleable__label {background-color: #d4ebff;}#sk-container-id-27 div.sk-serial::before {content: \"\";position: absolute;border-left: 1px solid gray;box-sizing: border-box;top: 0;bottom: 0;left: 50%;z-index: 0;}#sk-container-id-27 div.sk-serial {display: flex;flex-direction: column;align-items: center;background-color: white;padding-right: 0.2em;padding-left: 0.2em;position: relative;}#sk-container-id-27 div.sk-item {position: relative;z-index: 1;}#sk-container-id-27 div.sk-parallel {display: flex;align-items: stretch;justify-content: center;background-color: white;position: relative;}#sk-container-id-27 div.sk-item::before, #sk-container-id-27 div.sk-parallel-item::before {content: \"\";position: absolute;border-left: 1px solid gray;box-sizing: border-box;top: 0;bottom: 0;left: 50%;z-index: -1;}#sk-container-id-27 div.sk-parallel-item {display: flex;flex-direction: column;z-index: 1;position: relative;background-color: white;}#sk-container-id-27 div.sk-parallel-item:first-child::after {align-self: flex-end;width: 50%;}#sk-container-id-27 div.sk-parallel-item:last-child::after {align-self: flex-start;width: 50%;}#sk-container-id-27 div.sk-parallel-item:only-child::after {width: 0;}#sk-container-id-27 div.sk-dashed-wrapped {border: 1px dashed gray;margin: 0 0.4em 0.5em 0.4em;box-sizing: border-box;padding-bottom: 0.4em;background-color: white;}#sk-container-id-27 div.sk-label label {font-family: monospace;font-weight: bold;display: inline-block;line-height: 1.2em;}#sk-container-id-27 div.sk-label-container {text-align: center;}#sk-container-id-27 div.sk-container {/* jupyter's `normalize.less` sets `[hidden] { display: none; }` but bootstrap.min.css set `[hidden] { display: none !important; }` so we also need the `!important` here to be able to override the default hidden behavior on the sphinx rendered scikit-learn.org. See: https://github.com/scikit-learn/scikit-learn/issues/21755 */display: inline-block !important;position: relative;}#sk-container-id-27 div.sk-text-repr-fallback {display: none;}</style><div id=\"sk-container-id-27\" class=\"sk-top-container\"><div class=\"sk-text-repr-fallback\"><pre>RandomForestRegressor(max_depth=25, n_estimators=3, random_state=42)</pre><b>In a Jupyter environment, please rerun this cell to show the HTML representation or trust the notebook. <br />On GitHub, the HTML representation is unable to render, please try loading this page with nbviewer.org.</b></div><div class=\"sk-container\" hidden><div class=\"sk-item\"><div class=\"sk-estimator sk-toggleable\"><input class=\"sk-toggleable__control sk-hidden--visually\" id=\"sk-estimator-id-27\" type=\"checkbox\" checked><label for=\"sk-estimator-id-27\" class=\"sk-toggleable__label sk-toggleable__label-arrow\">RandomForestRegressor</label><div class=\"sk-toggleable__content\"><pre>RandomForestRegressor(max_depth=25, n_estimators=3, random_state=42)</pre></div></div></div></div></div>"
      ],
      "text/plain": [
       "RandomForestRegressor(max_depth=25, n_estimators=3, random_state=42)"
      ]
     },
     "execution_count": 88,
     "metadata": {},
     "output_type": "execute_result"
    }
   ],
   "source": [
    "model_2 = RandomForestRegressor(max_depth= 25, n_estimators= 3,random_state=42)\n",
    "model_2.fit(x_train,y_train)"
   ]
  },
  {
   "cell_type": "code",
   "execution_count": 69,
   "id": "3e5aa99a",
   "metadata": {},
   "outputs": [],
   "source": [
    "y_pred_2 = model_2.predict(x_test)\n",
    "comp = pd.DataFrame({'Predicted': y_pred_2, 'Actual': y_test})\n",
    "#comp"
   ]
  },
  {
   "cell_type": "code",
   "execution_count": 89,
   "id": "01e00e68",
   "metadata": {},
   "outputs": [
    {
     "name": "stdout",
     "output_type": "stream",
     "text": [
      "0.9996887453363672\n",
      "0.9954136868462441\n"
     ]
    }
   ],
   "source": [
    "print(model_2.score(x_train, y_train))\n",
    "print(model_2.score(x_test, y_test))"
   ]
  },
  {
   "cell_type": "code",
   "execution_count": 39,
   "id": "d6d11d01",
   "metadata": {},
   "outputs": [
    {
     "data": {
      "text/plain": [
       "loan_id\n",
       "LL0000654    1429550.0\n",
       "LL0001346    1645050.0\n",
       "LL0001700    1839300.0\n",
       "LL0000090     986050.0\n",
       "LL0000544    1719350.0\n",
       "               ...    \n",
       "LL0000966    1723700.0\n",
       "LL0000577    1820850.0\n",
       "LL0000606    2370150.0\n",
       "LL0000179    2259300.0\n",
       "LL0000776    1606700.0\n",
       "Name: property value, Length: 252, dtype: float64"
      ]
     },
     "execution_count": 39,
     "metadata": {},
     "output_type": "execute_result"
    }
   ],
   "source": [
    "y_test"
   ]
  },
  {
   "cell_type": "markdown",
   "id": "0d15e004",
   "metadata": {},
   "source": [
    "## Model_3"
   ]
  },
  {
   "cell_type": "code",
   "execution_count": 41,
   "id": "dcc10e22",
   "metadata": {},
   "outputs": [
    {
     "data": {
      "text/html": [
       "<style>#sk-container-id-3 {color: black;background-color: white;}#sk-container-id-3 pre{padding: 0;}#sk-container-id-3 div.sk-toggleable {background-color: white;}#sk-container-id-3 label.sk-toggleable__label {cursor: pointer;display: block;width: 100%;margin-bottom: 0;padding: 0.3em;box-sizing: border-box;text-align: center;}#sk-container-id-3 label.sk-toggleable__label-arrow:before {content: \"▸\";float: left;margin-right: 0.25em;color: #696969;}#sk-container-id-3 label.sk-toggleable__label-arrow:hover:before {color: black;}#sk-container-id-3 div.sk-estimator:hover label.sk-toggleable__label-arrow:before {color: black;}#sk-container-id-3 div.sk-toggleable__content {max-height: 0;max-width: 0;overflow: hidden;text-align: left;background-color: #f0f8ff;}#sk-container-id-3 div.sk-toggleable__content pre {margin: 0.2em;color: black;border-radius: 0.25em;background-color: #f0f8ff;}#sk-container-id-3 input.sk-toggleable__control:checked~div.sk-toggleable__content {max-height: 200px;max-width: 100%;overflow: auto;}#sk-container-id-3 input.sk-toggleable__control:checked~label.sk-toggleable__label-arrow:before {content: \"▾\";}#sk-container-id-3 div.sk-estimator input.sk-toggleable__control:checked~label.sk-toggleable__label {background-color: #d4ebff;}#sk-container-id-3 div.sk-label input.sk-toggleable__control:checked~label.sk-toggleable__label {background-color: #d4ebff;}#sk-container-id-3 input.sk-hidden--visually {border: 0;clip: rect(1px 1px 1px 1px);clip: rect(1px, 1px, 1px, 1px);height: 1px;margin: -1px;overflow: hidden;padding: 0;position: absolute;width: 1px;}#sk-container-id-3 div.sk-estimator {font-family: monospace;background-color: #f0f8ff;border: 1px dotted black;border-radius: 0.25em;box-sizing: border-box;margin-bottom: 0.5em;}#sk-container-id-3 div.sk-estimator:hover {background-color: #d4ebff;}#sk-container-id-3 div.sk-parallel-item::after {content: \"\";width: 100%;border-bottom: 1px solid gray;flex-grow: 1;}#sk-container-id-3 div.sk-label:hover label.sk-toggleable__label {background-color: #d4ebff;}#sk-container-id-3 div.sk-serial::before {content: \"\";position: absolute;border-left: 1px solid gray;box-sizing: border-box;top: 0;bottom: 0;left: 50%;z-index: 0;}#sk-container-id-3 div.sk-serial {display: flex;flex-direction: column;align-items: center;background-color: white;padding-right: 0.2em;padding-left: 0.2em;position: relative;}#sk-container-id-3 div.sk-item {position: relative;z-index: 1;}#sk-container-id-3 div.sk-parallel {display: flex;align-items: stretch;justify-content: center;background-color: white;position: relative;}#sk-container-id-3 div.sk-item::before, #sk-container-id-3 div.sk-parallel-item::before {content: \"\";position: absolute;border-left: 1px solid gray;box-sizing: border-box;top: 0;bottom: 0;left: 50%;z-index: -1;}#sk-container-id-3 div.sk-parallel-item {display: flex;flex-direction: column;z-index: 1;position: relative;background-color: white;}#sk-container-id-3 div.sk-parallel-item:first-child::after {align-self: flex-end;width: 50%;}#sk-container-id-3 div.sk-parallel-item:last-child::after {align-self: flex-start;width: 50%;}#sk-container-id-3 div.sk-parallel-item:only-child::after {width: 0;}#sk-container-id-3 div.sk-dashed-wrapped {border: 1px dashed gray;margin: 0 0.4em 0.5em 0.4em;box-sizing: border-box;padding-bottom: 0.4em;background-color: white;}#sk-container-id-3 div.sk-label label {font-family: monospace;font-weight: bold;display: inline-block;line-height: 1.2em;}#sk-container-id-3 div.sk-label-container {text-align: center;}#sk-container-id-3 div.sk-container {/* jupyter's `normalize.less` sets `[hidden] { display: none; }` but bootstrap.min.css set `[hidden] { display: none !important; }` so we also need the `!important` here to be able to override the default hidden behavior on the sphinx rendered scikit-learn.org. See: https://github.com/scikit-learn/scikit-learn/issues/21755 */display: inline-block !important;position: relative;}#sk-container-id-3 div.sk-text-repr-fallback {display: none;}</style><div id=\"sk-container-id-3\" class=\"sk-top-container\"><div class=\"sk-text-repr-fallback\"><pre>KNeighborsRegressor(n_neighbors=2)</pre><b>In a Jupyter environment, please rerun this cell to show the HTML representation or trust the notebook. <br />On GitHub, the HTML representation is unable to render, please try loading this page with nbviewer.org.</b></div><div class=\"sk-container\" hidden><div class=\"sk-item\"><div class=\"sk-estimator sk-toggleable\"><input class=\"sk-toggleable__control sk-hidden--visually\" id=\"sk-estimator-id-3\" type=\"checkbox\" checked><label for=\"sk-estimator-id-3\" class=\"sk-toggleable__label sk-toggleable__label-arrow\">KNeighborsRegressor</label><div class=\"sk-toggleable__content\"><pre>KNeighborsRegressor(n_neighbors=2)</pre></div></div></div></div></div>"
      ],
      "text/plain": [
       "KNeighborsRegressor(n_neighbors=2)"
      ]
     },
     "execution_count": 41,
     "metadata": {},
     "output_type": "execute_result"
    }
   ],
   "source": [
    "model_3 = KNeighborsRegressor(n_neighbors=2)\n",
    "model_3.fit(x_train,y_train)"
   ]
  },
  {
   "cell_type": "code",
   "execution_count": 42,
   "id": "18234946",
   "metadata": {},
   "outputs": [],
   "source": [
    "y_pred_3 = model_3.predict(x_test)\n",
    "comp = pd.DataFrame({'Predicted': y_pred_3, 'Actual': y_test})"
   ]
  },
  {
   "cell_type": "code",
   "execution_count": 43,
   "id": "a3d26c9b",
   "metadata": {},
   "outputs": [
    {
     "name": "stdout",
     "output_type": "stream",
     "text": [
      "0.7956587620253373\n",
      "0.8684431642320916\n"
     ]
    }
   ],
   "source": [
    "print(model_3.score(x_train,y_train))\n",
    "print(model_3.score(x_test,y_test))"
   ]
  },
  {
   "cell_type": "markdown",
   "id": "7977f4ef",
   "metadata": {},
   "source": [
    "2. Create a model to predict the transaction “employment length” (5 points)\n",
    "a. Try out at least 3 different models, and comment on why you chose these models\n",
    "b. Measure accuracy (at least one model should have accuracy of 80% or higher)"
   ]
  },
  {
   "cell_type": "code",
   "execution_count": 44,
   "id": "cc92e8b0",
   "metadata": {},
   "outputs": [],
   "source": [
    "raw_data_2 = luxury_loan_data.copy()"
   ]
  },
  {
   "cell_type": "code",
   "execution_count": 45,
   "id": "710441e9",
   "metadata": {},
   "outputs": [],
   "source": [
    "raw_data_2.fillna(raw_data_2['title'].mode()[0],inplace=True)\n",
    "numeric_columns = [columns_names for columns_names in raw_data_2.columns if raw_data_2[columns_names].dtypes != 'object']\n",
    "cat_col = [columns_names for columns_names in raw_data_2.columns if raw_data_2[columns_names].dtypes == 'object']\n",
    "cat_col = [column_names for column_names in cat_col if len(raw_data_2[column_names].unique()) <= 7]"
   ]
  },
  {
   "cell_type": "code",
   "execution_count": 46,
   "id": "24fe258e",
   "metadata": {},
   "outputs": [
    {
     "data": {
      "text/html": [
       "<style>#sk-container-id-4 {color: black;background-color: white;}#sk-container-id-4 pre{padding: 0;}#sk-container-id-4 div.sk-toggleable {background-color: white;}#sk-container-id-4 label.sk-toggleable__label {cursor: pointer;display: block;width: 100%;margin-bottom: 0;padding: 0.3em;box-sizing: border-box;text-align: center;}#sk-container-id-4 label.sk-toggleable__label-arrow:before {content: \"▸\";float: left;margin-right: 0.25em;color: #696969;}#sk-container-id-4 label.sk-toggleable__label-arrow:hover:before {color: black;}#sk-container-id-4 div.sk-estimator:hover label.sk-toggleable__label-arrow:before {color: black;}#sk-container-id-4 div.sk-toggleable__content {max-height: 0;max-width: 0;overflow: hidden;text-align: left;background-color: #f0f8ff;}#sk-container-id-4 div.sk-toggleable__content pre {margin: 0.2em;color: black;border-radius: 0.25em;background-color: #f0f8ff;}#sk-container-id-4 input.sk-toggleable__control:checked~div.sk-toggleable__content {max-height: 200px;max-width: 100%;overflow: auto;}#sk-container-id-4 input.sk-toggleable__control:checked~label.sk-toggleable__label-arrow:before {content: \"▾\";}#sk-container-id-4 div.sk-estimator input.sk-toggleable__control:checked~label.sk-toggleable__label {background-color: #d4ebff;}#sk-container-id-4 div.sk-label input.sk-toggleable__control:checked~label.sk-toggleable__label {background-color: #d4ebff;}#sk-container-id-4 input.sk-hidden--visually {border: 0;clip: rect(1px 1px 1px 1px);clip: rect(1px, 1px, 1px, 1px);height: 1px;margin: -1px;overflow: hidden;padding: 0;position: absolute;width: 1px;}#sk-container-id-4 div.sk-estimator {font-family: monospace;background-color: #f0f8ff;border: 1px dotted black;border-radius: 0.25em;box-sizing: border-box;margin-bottom: 0.5em;}#sk-container-id-4 div.sk-estimator:hover {background-color: #d4ebff;}#sk-container-id-4 div.sk-parallel-item::after {content: \"\";width: 100%;border-bottom: 1px solid gray;flex-grow: 1;}#sk-container-id-4 div.sk-label:hover label.sk-toggleable__label {background-color: #d4ebff;}#sk-container-id-4 div.sk-serial::before {content: \"\";position: absolute;border-left: 1px solid gray;box-sizing: border-box;top: 0;bottom: 0;left: 50%;z-index: 0;}#sk-container-id-4 div.sk-serial {display: flex;flex-direction: column;align-items: center;background-color: white;padding-right: 0.2em;padding-left: 0.2em;position: relative;}#sk-container-id-4 div.sk-item {position: relative;z-index: 1;}#sk-container-id-4 div.sk-parallel {display: flex;align-items: stretch;justify-content: center;background-color: white;position: relative;}#sk-container-id-4 div.sk-item::before, #sk-container-id-4 div.sk-parallel-item::before {content: \"\";position: absolute;border-left: 1px solid gray;box-sizing: border-box;top: 0;bottom: 0;left: 50%;z-index: -1;}#sk-container-id-4 div.sk-parallel-item {display: flex;flex-direction: column;z-index: 1;position: relative;background-color: white;}#sk-container-id-4 div.sk-parallel-item:first-child::after {align-self: flex-end;width: 50%;}#sk-container-id-4 div.sk-parallel-item:last-child::after {align-self: flex-start;width: 50%;}#sk-container-id-4 div.sk-parallel-item:only-child::after {width: 0;}#sk-container-id-4 div.sk-dashed-wrapped {border: 1px dashed gray;margin: 0 0.4em 0.5em 0.4em;box-sizing: border-box;padding-bottom: 0.4em;background-color: white;}#sk-container-id-4 div.sk-label label {font-family: monospace;font-weight: bold;display: inline-block;line-height: 1.2em;}#sk-container-id-4 div.sk-label-container {text-align: center;}#sk-container-id-4 div.sk-container {/* jupyter's `normalize.less` sets `[hidden] { display: none; }` but bootstrap.min.css set `[hidden] { display: none !important; }` so we also need the `!important` here to be able to override the default hidden behavior on the sphinx rendered scikit-learn.org. See: https://github.com/scikit-learn/scikit-learn/issues/21755 */display: inline-block !important;position: relative;}#sk-container-id-4 div.sk-text-repr-fallback {display: none;}</style><div id=\"sk-container-id-4\" class=\"sk-top-container\"><div class=\"sk-text-repr-fallback\"><pre>LabelEncoder()</pre><b>In a Jupyter environment, please rerun this cell to show the HTML representation or trust the notebook. <br />On GitHub, the HTML representation is unable to render, please try loading this page with nbviewer.org.</b></div><div class=\"sk-container\" hidden><div class=\"sk-item\"><div class=\"sk-estimator sk-toggleable\"><input class=\"sk-toggleable__control sk-hidden--visually\" id=\"sk-estimator-id-4\" type=\"checkbox\" checked><label for=\"sk-estimator-id-4\" class=\"sk-toggleable__label sk-toggleable__label-arrow\">LabelEncoder</label><div class=\"sk-toggleable__content\"><pre>LabelEncoder()</pre></div></div></div></div></div>"
      ],
      "text/plain": [
       "LabelEncoder()"
      ]
     },
     "execution_count": 46,
     "metadata": {},
     "output_type": "execute_result"
    }
   ],
   "source": [
    "le = LabelEncoder()\n",
    "le.fit(raw_data_2['employment_length_bins'])"
   ]
  },
  {
   "cell_type": "code",
   "execution_count": 47,
   "id": "f2c010bd",
   "metadata": {},
   "outputs": [
    {
     "data": {
      "text/plain": [
       "array([3, 1, 0, 2])"
      ]
     },
     "execution_count": 47,
     "metadata": {},
     "output_type": "execute_result"
    }
   ],
   "source": [
    "raw_data_2['employment_length_bins'] = le.fit_transform(raw_data_2['employment_length_bins'])\n",
    "raw_data_2['employment_length_bins'].unique()"
   ]
  },
  {
   "cell_type": "code",
   "execution_count": 48,
   "id": "279755b2",
   "metadata": {},
   "outputs": [],
   "source": [
    "features = numeric_columns + cat_col"
   ]
  },
  {
   "cell_type": "code",
   "execution_count": 49,
   "id": "429db9bf",
   "metadata": {},
   "outputs": [],
   "source": [
    "raw_data_2 = raw_data_2[features]"
   ]
  },
  {
   "cell_type": "code",
   "execution_count": 50,
   "id": "dd74fd12",
   "metadata": {},
   "outputs": [],
   "source": [
    "raw_data_2 = pd.get_dummies(raw_data_2,drop_first=True)"
   ]
  },
  {
   "cell_type": "code",
   "execution_count": 51,
   "id": "5ee6e3de",
   "metadata": {},
   "outputs": [],
   "source": [
    "inputs = raw_data_2.drop('employment_length_bins',axis=1)\n",
    "target = raw_data_2['employment_length_bins']"
   ]
  },
  {
   "cell_type": "code",
   "execution_count": 52,
   "id": "425a188e",
   "metadata": {},
   "outputs": [],
   "source": [
    "x_train,x_test,y_train,y_test = train_test_split(inputs,target,test_size=0.15,random_state=1234)"
   ]
  },
  {
   "cell_type": "markdown",
   "id": "c2cf198d",
   "metadata": {},
   "source": [
    "## Model_1"
   ]
  },
  {
   "cell_type": "code",
   "execution_count": 53,
   "id": "9fa28c0b",
   "metadata": {},
   "outputs": [
    {
     "name": "stdout",
     "output_type": "stream",
     "text": [
      "Best: 0.304326 using {'C': 0.8, 'penalty': 'l2', 'solver': 'lbfgs'}\n",
      "0.292423 (0.009457) with: {'C': 0.01, 'penalty': 'l2', 'solver': 'sag'}\n",
      "0.302930 (0.016827) with: {'C': 0.01, 'penalty': 'l2', 'solver': 'lbfgs'}\n",
      "0.292423 (0.009457) with: {'C': 0.1, 'penalty': 'l2', 'solver': 'sag'}\n",
      "0.301526 (0.016866) with: {'C': 0.1, 'penalty': 'l2', 'solver': 'lbfgs'}\n",
      "0.292423 (0.009457) with: {'C': 0.2, 'penalty': 'l2', 'solver': 'sag'}\n",
      "0.302223 (0.017687) with: {'C': 0.2, 'penalty': 'l2', 'solver': 'lbfgs'}\n",
      "0.292423 (0.009457) with: {'C': 0.5, 'penalty': 'l2', 'solver': 'sag'}\n",
      "0.302218 (0.021944) with: {'C': 0.5, 'penalty': 'l2', 'solver': 'lbfgs'}\n",
      "0.293125 (0.009979) with: {'C': 0.8, 'penalty': 'l2', 'solver': 'sag'}\n",
      "0.304326 (0.018614) with: {'C': 0.8, 'penalty': 'l2', 'solver': 'lbfgs'}\n",
      "0.292423 (0.009457) with: {'C': 10, 'penalty': 'l2', 'solver': 'sag'}\n",
      "0.300827 (0.014627) with: {'C': 10, 'penalty': 'l2', 'solver': 'lbfgs'}\n"
     ]
    },
    {
     "name": "stderr",
     "output_type": "stream",
     "text": [
      "C:\\Users\\Amro Ewes\\anaconda3\\lib\\site-packages\\sklearn\\linear_model\\_logistic.py:444: ConvergenceWarning: lbfgs failed to converge (status=1):\n",
      "STOP: TOTAL NO. of ITERATIONS REACHED LIMIT.\n",
      "\n",
      "Increase the number of iterations (max_iter) or scale the data as shown in:\n",
      "    https://scikit-learn.org/stable/modules/preprocessing.html\n",
      "Please also refer to the documentation for alternative solver options:\n",
      "    https://scikit-learn.org/stable/modules/linear_model.html#logistic-regression\n",
      "  n_iter_i = _check_optimize_result(\n"
     ]
    }
   ],
   "source": [
    "model_1 = LogisticRegression(max_iter=300)\n",
    "solvers = ['sag','lbfgs']\n",
    "penalty = ['l2']\n",
    "c_values = [0.01,0.1,0.2,0.5,0.8,10]\n",
    "\n",
    "\n",
    "grid = dict(solver=solvers,penalty=penalty,C=c_values)\n",
    "cv = RepeatedStratifiedKFold(n_splits=10, n_repeats=3, random_state=1)\n",
    "grid_search = GridSearchCV(estimator=model_1, param_grid=grid, n_jobs=-1, cv=5, scoring='accuracy',error_score=0)\n",
    "grid_result = grid_search.fit(x_train, y_train)\n",
    "\n",
    "\n",
    "print(\"Best: %f using %s\" % (grid_result.best_score_, grid_result.best_params_))\n",
    "means = grid_result.cv_results_['mean_test_score']\n",
    "stds = grid_result.cv_results_['std_test_score']\n",
    "params = grid_result.cv_results_['params']\n",
    "\n",
    "\n",
    "for mean, stdev, param in zip(means, stds, params):\n",
    "    print(\"%f (%f) with: %r\" % (mean, stdev, param))"
   ]
  },
  {
   "cell_type": "code",
   "execution_count": 54,
   "id": "75c3dba1",
   "metadata": {},
   "outputs": [
    {
     "name": "stdout",
     "output_type": "stream",
     "text": [
      "                    precision    recall  f1-score   support\n",
      "\n",
      "               car       0.00      0.00      0.00        55\n",
      "debt_consolidation       0.30      0.95      0.46        74\n",
      "              home       0.00      0.00      0.00        47\n",
      "  home_improvement       0.42      0.11      0.17        76\n",
      "\n",
      "          accuracy                           0.31       252\n",
      "         macro avg       0.18      0.26      0.16       252\n",
      "      weighted avg       0.22      0.31      0.18       252\n",
      "\n",
      "30.952380952380953\n",
      "['-5', '10-15', '15+', '5-10']\n"
     ]
    },
    {
     "name": "stderr",
     "output_type": "stream",
     "text": [
      "C:\\Users\\Amro Ewes\\anaconda3\\lib\\site-packages\\sklearn\\linear_model\\_logistic.py:444: ConvergenceWarning: lbfgs failed to converge (status=1):\n",
      "STOP: TOTAL NO. of ITERATIONS REACHED LIMIT.\n",
      "\n",
      "Increase the number of iterations (max_iter) or scale the data as shown in:\n",
      "    https://scikit-learn.org/stable/modules/preprocessing.html\n",
      "Please also refer to the documentation for alternative solver options:\n",
      "    https://scikit-learn.org/stable/modules/linear_model.html#logistic-regression\n",
      "  n_iter_i = _check_optimize_result(\n",
      "C:\\Users\\Amro Ewes\\anaconda3\\lib\\site-packages\\sklearn\\metrics\\_classification.py:1327: UndefinedMetricWarning: Precision and F-score are ill-defined and being set to 0.0 in labels with no predicted samples. Use `zero_division` parameter to control this behavior.\n",
      "  _warn_prf(average, modifier, msg_start, len(result))\n",
      "C:\\Users\\Amro Ewes\\anaconda3\\lib\\site-packages\\sklearn\\metrics\\_classification.py:1327: UndefinedMetricWarning: Precision and F-score are ill-defined and being set to 0.0 in labels with no predicted samples. Use `zero_division` parameter to control this behavior.\n",
      "  _warn_prf(average, modifier, msg_start, len(result))\n",
      "C:\\Users\\Amro Ewes\\anaconda3\\lib\\site-packages\\sklearn\\metrics\\_classification.py:1327: UndefinedMetricWarning: Precision and F-score are ill-defined and being set to 0.0 in labels with no predicted samples. Use `zero_division` parameter to control this behavior.\n",
      "  _warn_prf(average, modifier, msg_start, len(result))\n"
     ]
    }
   ],
   "source": [
    "model_1 = LogisticRegression(C=0.8,penalty ='l2',solver = 'lbfgs',multi_class='multinomial')\n",
    "model_1.fit(x_train,y_train)\n",
    "target_1 = model_1.predict(x_test)\n",
    "print(classification_report(y_test,target_1,target_names=['car', 'debt_consolidation', 'home', 'home_improvement']))\n",
    "print(accuracy_score(y_test,target_1)*100)\n",
    "print(list(le.inverse_transform([0,1,2,3])))"
   ]
  },
  {
   "cell_type": "markdown",
   "id": "cb751c2d",
   "metadata": {},
   "source": [
    "## Model_2"
   ]
  },
  {
   "cell_type": "code",
   "execution_count": 55,
   "id": "3aac111a",
   "metadata": {},
   "outputs": [
    {
     "name": "stdout",
     "output_type": "stream",
     "text": [
      "              precision    recall  f1-score   support\n",
      "\n",
      "          -5       1.00      1.00      1.00        55\n",
      "       10-15       1.00      1.00      1.00        74\n",
      "         15+       1.00      1.00      1.00        47\n",
      "        5-10       1.00      1.00      1.00        76\n",
      "\n",
      "    accuracy                           1.00       252\n",
      "   macro avg       1.00      1.00      1.00       252\n",
      "weighted avg       1.00      1.00      1.00       252\n",
      "\n",
      "100.0\n",
      "['-5' '10-15' '15+' '5-10']\n"
     ]
    }
   ],
   "source": [
    "model_2 = RandomForestClassifier(random_state=1234)\n",
    "model_2.fit(x_train,y_train)\n",
    "target_2 = model_2.predict(x_test)\n",
    "print(classification_report(y_test,target_2,target_names=['-5' ,'10-15' ,'15+' ,'5-10']))\n",
    "print(accuracy_score(y_test,target_2)*100)\n",
    "print(le.inverse_transform([0,1,2,3]))"
   ]
  },
  {
   "cell_type": "markdown",
   "id": "e4f7624d",
   "metadata": {},
   "source": [
    "## Model_3"
   ]
  },
  {
   "cell_type": "code",
   "execution_count": 56,
   "id": "d804e35c",
   "metadata": {},
   "outputs": [
    {
     "name": "stdout",
     "output_type": "stream",
     "text": [
      "              precision    recall  f1-score   support\n",
      "\n",
      "          -5       1.00      1.00      1.00        55\n",
      "       10-15       1.00      1.00      1.00        74\n",
      "         15+       1.00      1.00      1.00        47\n",
      "        5-10       1.00      1.00      1.00        76\n",
      "\n",
      "    accuracy                           1.00       252\n",
      "   macro avg       1.00      1.00      1.00       252\n",
      "weighted avg       1.00      1.00      1.00       252\n",
      "\n",
      "100.0\n"
     ]
    }
   ],
   "source": [
    "model_3 = xgb.XGBClassifier()\n",
    "model_3.fit(x_train,y_train)\n",
    "target_3 = model_3.predict(x_test)\n",
    "print(classification_report(y_test,target_3,target_names=['-5' ,'10-15' ,'15+' ,'5-10']))\n",
    "print(accuracy_score(y_test,target_3)*100)"
   ]
  }
 ],
 "metadata": {
  "kernelspec": {
   "display_name": "Python 3 (ipykernel)",
   "language": "python",
   "name": "python3"
  },
  "language_info": {
   "codemirror_mode": {
    "name": "ipython",
    "version": 3
   },
   "file_extension": ".py",
   "mimetype": "text/x-python",
   "name": "python",
   "nbconvert_exporter": "python",
   "pygments_lexer": "ipython3",
   "version": "3.9.7"
  }
 },
 "nbformat": 4,
 "nbformat_minor": 5
}
