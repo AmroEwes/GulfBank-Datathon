{
 "cells": [
  {
   "cell_type": "code",
   "execution_count": 15,
   "id": "657f954d",
   "metadata": {},
   "outputs": [],
   "source": [
    "import pandas as pd\n",
    "import numpy as np\n",
    "import matplotlib.pyplot as plt\n",
    "import seaborn as sns\n",
    "sns.set()\n",
    "from sklearn.preprocessing import LabelEncoder\n",
    "from sklearn.linear_model import LogisticRegression, LinearRegression\n",
    "from sklearn.metrics import accuracy_score,confusion_matrix,classification_report\n",
    "from sklearn.ensemble import RandomForestClassifier,RandomForestRegressor\n",
    "from sklearn.model_selection import train_test_split\n",
    "from sklearn.model_selection import RepeatedStratifiedKFold\n",
    "from sklearn.model_selection import GridSearchCV\n",
    "from sklearn.neighbors import KNeighborsClassifier"
   ]
  },
  {
   "cell_type": "markdown",
   "id": "ab6223e3",
   "metadata": {},
   "source": [
    "## Loans Path:\n",
    "#### Level 1: Exploring (1 point per task)\n",
    "1. What are the different durations that loans are taken in and how many loans are taken for each duration?\n",
    "2. What are the different statuses for the loans?\n",
    "3. What are the different loan purposes and what is the most common purpose?\n",
    "4. What is the median loan amount?\n",
    "5. How is the median loan amount changing over the years? Visualize this\n",
    "6. What are the top 3 most common locations that people take loans in? (The location is represented by a\n",
    "number)\n",
    "7. What is the average value of loans for each duration? Visualize this."
   ]
  },
  {
   "cell_type": "code",
   "execution_count": 16,
   "id": "10c239f0",
   "metadata": {},
   "outputs": [
    {
     "data": {
      "text/html": [
       "<div>\n",
       "<style scoped>\n",
       "    .dataframe tbody tr th:only-of-type {\n",
       "        vertical-align: middle;\n",
       "    }\n",
       "\n",
       "    .dataframe tbody tr th {\n",
       "        vertical-align: top;\n",
       "    }\n",
       "\n",
       "    .dataframe thead th {\n",
       "        text-align: right;\n",
       "    }\n",
       "</style>\n",
       "<table border=\"1\" class=\"dataframe\">\n",
       "  <thead>\n",
       "    <tr style=\"text-align: right;\">\n",
       "      <th></th>\n",
       "      <th>account_id</th>\n",
       "      <th>amount</th>\n",
       "      <th>duration</th>\n",
       "      <th>payments</th>\n",
       "      <th>status</th>\n",
       "      <th>year</th>\n",
       "      <th>month</th>\n",
       "      <th>day</th>\n",
       "      <th>fulldate</th>\n",
       "      <th>location</th>\n",
       "      <th>purpose</th>\n",
       "    </tr>\n",
       "    <tr>\n",
       "      <th>loan_id</th>\n",
       "      <th></th>\n",
       "      <th></th>\n",
       "      <th></th>\n",
       "      <th></th>\n",
       "      <th></th>\n",
       "      <th></th>\n",
       "      <th></th>\n",
       "      <th></th>\n",
       "      <th></th>\n",
       "      <th></th>\n",
       "      <th></th>\n",
       "    </tr>\n",
       "  </thead>\n",
       "  <tbody>\n",
       "    <tr>\n",
       "      <th>L00005657</th>\n",
       "      <td>A00003354</td>\n",
       "      <td>4980</td>\n",
       "      <td>12</td>\n",
       "      <td>415</td>\n",
       "      <td>A</td>\n",
       "      <td>2014</td>\n",
       "      <td>7</td>\n",
       "      <td>5</td>\n",
       "      <td>2014-07-05</td>\n",
       "      <td>59</td>\n",
       "      <td>car</td>\n",
       "    </tr>\n",
       "    <tr>\n",
       "      <th>L00006234</th>\n",
       "      <td>A00006061</td>\n",
       "      <td>5148</td>\n",
       "      <td>12</td>\n",
       "      <td>429</td>\n",
       "      <td>C</td>\n",
       "      <td>2018</td>\n",
       "      <td>5</td>\n",
       "      <td>28</td>\n",
       "      <td>2018-05-28</td>\n",
       "      <td>1</td>\n",
       "      <td>car</td>\n",
       "    </tr>\n",
       "    <tr>\n",
       "      <th>L00006699</th>\n",
       "      <td>A00008330</td>\n",
       "      <td>7656</td>\n",
       "      <td>24</td>\n",
       "      <td>319</td>\n",
       "      <td>A</td>\n",
       "      <td>2014</td>\n",
       "      <td>3</td>\n",
       "      <td>30</td>\n",
       "      <td>2014-03-30</td>\n",
       "      <td>1</td>\n",
       "      <td>car</td>\n",
       "    </tr>\n",
       "    <tr>\n",
       "      <th>L00006688</th>\n",
       "      <td>A00008268</td>\n",
       "      <td>8616</td>\n",
       "      <td>24</td>\n",
       "      <td>359</td>\n",
       "      <td>C</td>\n",
       "      <td>2017</td>\n",
       "      <td>9</td>\n",
       "      <td>26</td>\n",
       "      <td>2017-09-26</td>\n",
       "      <td>1</td>\n",
       "      <td>car</td>\n",
       "    </tr>\n",
       "    <tr>\n",
       "      <th>L00006312</th>\n",
       "      <td>A00006453</td>\n",
       "      <td>10944</td>\n",
       "      <td>36</td>\n",
       "      <td>304</td>\n",
       "      <td>C</td>\n",
       "      <td>2018</td>\n",
       "      <td>5</td>\n",
       "      <td>17</td>\n",
       "      <td>2018-05-17</td>\n",
       "      <td>1</td>\n",
       "      <td>car</td>\n",
       "    </tr>\n",
       "  </tbody>\n",
       "</table>\n",
       "</div>"
      ],
      "text/plain": [
       "          account_id  amount  duration  payments status  year  month  day  \\\n",
       "loan_id                                                                     \n",
       "L00005657  A00003354    4980        12       415      A  2014      7    5   \n",
       "L00006234  A00006061    5148        12       429      C  2018      5   28   \n",
       "L00006699  A00008330    7656        24       319      A  2014      3   30   \n",
       "L00006688  A00008268    8616        24       359      C  2017      9   26   \n",
       "L00006312  A00006453   10944        36       304      C  2018      5   17   \n",
       "\n",
       "             fulldate  location purpose  \n",
       "loan_id                                  \n",
       "L00005657  2014-07-05        59     car  \n",
       "L00006234  2018-05-28         1     car  \n",
       "L00006699  2014-03-30         1     car  \n",
       "L00006688  2017-09-26         1     car  \n",
       "L00006312  2018-05-17         1     car  "
      ]
     },
     "execution_count": 16,
     "metadata": {},
     "output_type": "execute_result"
    }
   ],
   "source": [
    "loan_data = pd.read_csv('completedloan.csv')\n",
    "loan_data = loan_data.set_index('loan_id')\n",
    "loan_data.head()"
   ]
  },
  {
   "cell_type": "markdown",
   "id": "357a2544",
   "metadata": {},
   "source": [
    "1. What are the different durations that loans are taken in and how many loans are taken for each duration?"
   ]
  },
  {
   "cell_type": "code",
   "execution_count": 17,
   "id": "2882274f",
   "metadata": {},
   "outputs": [
    {
     "data": {
      "text/plain": [
       "60    145\n",
       "24    138\n",
       "48    138\n",
       "12    131\n",
       "36    130\n",
       "Name: duration, dtype: int64"
      ]
     },
     "execution_count": 17,
     "metadata": {},
     "output_type": "execute_result"
    }
   ],
   "source": [
    "loan_data['duration'].value_counts()"
   ]
  },
  {
   "cell_type": "markdown",
   "id": "3fef5dca",
   "metadata": {},
   "source": [
    "2. What are the different statuses for the loans?"
   ]
  },
  {
   "cell_type": "code",
   "execution_count": 18,
   "id": "1d92c447",
   "metadata": {},
   "outputs": [
    {
     "data": {
      "text/plain": [
       "array(['A', 'C', 'B', 'D'], dtype=object)"
      ]
     },
     "execution_count": 18,
     "metadata": {},
     "output_type": "execute_result"
    }
   ],
   "source": [
    "loan_data['status'].unique()"
   ]
  },
  {
   "cell_type": "markdown",
   "id": "ec4272dd",
   "metadata": {},
   "source": [
    "3. What are the different loan purposes and what is the most common purpose?"
   ]
  },
  {
   "cell_type": "code",
   "execution_count": 19,
   "id": "7e4b873b",
   "metadata": {},
   "outputs": [
    {
     "data": {
      "text/plain": [
       "home                  537\n",
       "debt_consolidation     75\n",
       "home_improvement       40\n",
       "car                    30\n",
       "Name: purpose, dtype: int64"
      ]
     },
     "execution_count": 19,
     "metadata": {},
     "output_type": "execute_result"
    }
   ],
   "source": [
    "loan_data['purpose'].value_counts()"
   ]
  },
  {
   "cell_type": "markdown",
   "id": "1841347d",
   "metadata": {},
   "source": [
    "4. What is the median loan amount?"
   ]
  },
  {
   "cell_type": "code",
   "execution_count": 21,
   "id": "3a6006bf",
   "metadata": {},
   "outputs": [
    {
     "data": {
      "text/plain": [
       "116928.0"
      ]
     },
     "execution_count": 21,
     "metadata": {},
     "output_type": "execute_result"
    }
   ],
   "source": [
    "loan_data['amount'].median()"
   ]
  },
  {
   "cell_type": "markdown",
   "id": "28a4b9b9",
   "metadata": {},
   "source": [
    "5. How is the median loan amount changing over the years? Visualize this"
   ]
  },
  {
   "cell_type": "code",
   "execution_count": 22,
   "id": "89bcf817",
   "metadata": {},
   "outputs": [
    {
     "data": {
      "text/html": [
       "<div>\n",
       "<style scoped>\n",
       "    .dataframe tbody tr th:only-of-type {\n",
       "        vertical-align: middle;\n",
       "    }\n",
       "\n",
       "    .dataframe tbody tr th {\n",
       "        vertical-align: top;\n",
       "    }\n",
       "\n",
       "    .dataframe thead th {\n",
       "        text-align: right;\n",
       "    }\n",
       "</style>\n",
       "<table border=\"1\" class=\"dataframe\">\n",
       "  <thead>\n",
       "    <tr style=\"text-align: right;\">\n",
       "      <th></th>\n",
       "      <th>amount</th>\n",
       "    </tr>\n",
       "    <tr>\n",
       "      <th>year</th>\n",
       "      <th></th>\n",
       "    </tr>\n",
       "  </thead>\n",
       "  <tbody>\n",
       "    <tr>\n",
       "      <th>2013</th>\n",
       "      <td>95898.0</td>\n",
       "    </tr>\n",
       "    <tr>\n",
       "      <th>2014</th>\n",
       "      <td>104808.0</td>\n",
       "    </tr>\n",
       "    <tr>\n",
       "      <th>2015</th>\n",
       "      <td>110718.0</td>\n",
       "    </tr>\n",
       "    <tr>\n",
       "      <th>2016</th>\n",
       "      <td>129408.0</td>\n",
       "    </tr>\n",
       "    <tr>\n",
       "      <th>2017</th>\n",
       "      <td>101520.0</td>\n",
       "    </tr>\n",
       "    <tr>\n",
       "      <th>2018</th>\n",
       "      <td>139776.0</td>\n",
       "    </tr>\n",
       "  </tbody>\n",
       "</table>\n",
       "</div>"
      ],
      "text/plain": [
       "        amount\n",
       "year          \n",
       "2013   95898.0\n",
       "2014  104808.0\n",
       "2015  110718.0\n",
       "2016  129408.0\n",
       "2017  101520.0\n",
       "2018  139776.0"
      ]
     },
     "execution_count": 22,
     "metadata": {},
     "output_type": "execute_result"
    }
   ],
   "source": [
    "median_ammount = pd.DataFrame(loan_data.groupby(['year'])['amount'].median())\n",
    "median_ammount"
   ]
  },
  {
   "cell_type": "code",
   "execution_count": 8,
   "id": "dc5ce4d5",
   "metadata": {},
   "outputs": [
    {
     "data": {
      "text/plain": [
       "<AxesSubplot:xlabel='year'>"
      ]
     },
     "execution_count": 8,
     "metadata": {},
     "output_type": "execute_result"
    },
    {
     "data": {
      "image/png": "[encoded data removed]",
      "text/plain": [
       "<Figure size 640x480 with 1 Axes>"
      ]
     },
     "metadata": {},
     "output_type": "display_data"
    }
   ],
   "source": [
    "median_ammount.plot()"
   ]
  },
  {
   "cell_type": "code",
   "execution_count": 9,
   "id": "45477b3d",
   "metadata": {},
   "outputs": [
    {
     "data": {
      "text/plain": [
       "Text(0.5, 1.0, 'Medain Loan amount Over years')"
      ]
     },
     "execution_count": 9,
     "metadata": {},
     "output_type": "execute_result"
    },
    {
     "data": {
      "image/png": "[encoded data removed]",
      "text/plain": [
       "<Figure size 900x400 with 1 Axes>"
      ]
     },
     "metadata": {},
     "output_type": "display_data"
    }
   ],
   "source": [
    "plt.figure(figsize=(9,4))\n",
    "plt.bar(median_ammount.index,median_ammount['amount'])\n",
    "plt.xlabel('Year')\n",
    "plt.ylabel('Medain Loan amount')\n",
    "plt.title('Medain Loan amount Over years')"
   ]
  },
  {
   "cell_type": "markdown",
   "id": "12c67e08",
   "metadata": {},
   "source": [
    "6. What are the top 3 most common locations that people take loans in? (The location is represented by a\n",
    "number)"
   ]
  },
  {
   "cell_type": "code",
   "execution_count": 23,
   "id": "9e13a2ad",
   "metadata": {},
   "outputs": [
    {
     "data": {
      "text/html": [
       "<div>\n",
       "<style scoped>\n",
       "    .dataframe tbody tr th:only-of-type {\n",
       "        vertical-align: middle;\n",
       "    }\n",
       "\n",
       "    .dataframe tbody tr th {\n",
       "        vertical-align: top;\n",
       "    }\n",
       "\n",
       "    .dataframe thead th {\n",
       "        text-align: right;\n",
       "    }\n",
       "</style>\n",
       "<table border=\"1\" class=\"dataframe\">\n",
       "  <thead>\n",
       "    <tr style=\"text-align: right;\">\n",
       "      <th></th>\n",
       "      <th>amount</th>\n",
       "    </tr>\n",
       "    <tr>\n",
       "      <th>location</th>\n",
       "      <th></th>\n",
       "    </tr>\n",
       "  </thead>\n",
       "  <tbody>\n",
       "    <tr>\n",
       "      <th>1</th>\n",
       "      <td>74345952</td>\n",
       "    </tr>\n",
       "    <tr>\n",
       "      <th>64</th>\n",
       "      <td>11698512</td>\n",
       "    </tr>\n",
       "    <tr>\n",
       "      <th>59</th>\n",
       "      <td>8044812</td>\n",
       "    </tr>\n",
       "  </tbody>\n",
       "</table>\n",
       "</div>"
      ],
      "text/plain": [
       "            amount\n",
       "location          \n",
       "1         74345952\n",
       "64        11698512\n",
       "59         8044812"
      ]
     },
     "execution_count": 23,
     "metadata": {},
     "output_type": "execute_result"
    }
   ],
   "source": [
    "max_3_location = pd.DataFrame(loan_data.groupby(['location'])['amount'].sum().sort_values(ascending=False).head(3))\n",
    "max_3_location"
   ]
  },
  {
   "cell_type": "markdown",
   "id": "6f6ac9f3",
   "metadata": {},
   "source": [
    "7. What is the average value of loans for each duration? Visualize this."
   ]
  },
  {
   "cell_type": "code",
   "execution_count": 24,
   "id": "e45f21ab",
   "metadata": {},
   "outputs": [
    {
     "data": {
      "text/html": [
       "<div>\n",
       "<style scoped>\n",
       "    .dataframe tbody tr th:only-of-type {\n",
       "        vertical-align: middle;\n",
       "    }\n",
       "\n",
       "    .dataframe tbody tr th {\n",
       "        vertical-align: top;\n",
       "    }\n",
       "\n",
       "    .dataframe thead th {\n",
       "        text-align: right;\n",
       "    }\n",
       "</style>\n",
       "<table border=\"1\" class=\"dataframe\">\n",
       "  <thead>\n",
       "    <tr style=\"text-align: right;\">\n",
       "      <th></th>\n",
       "      <th>account_id</th>\n",
       "      <th>amount</th>\n",
       "      <th>duration</th>\n",
       "      <th>payments</th>\n",
       "      <th>status</th>\n",
       "      <th>year</th>\n",
       "      <th>month</th>\n",
       "      <th>day</th>\n",
       "      <th>fulldate</th>\n",
       "      <th>location</th>\n",
       "      <th>purpose</th>\n",
       "    </tr>\n",
       "    <tr>\n",
       "      <th>loan_id</th>\n",
       "      <th></th>\n",
       "      <th></th>\n",
       "      <th></th>\n",
       "      <th></th>\n",
       "      <th></th>\n",
       "      <th></th>\n",
       "      <th></th>\n",
       "      <th></th>\n",
       "      <th></th>\n",
       "      <th></th>\n",
       "      <th></th>\n",
       "    </tr>\n",
       "  </thead>\n",
       "  <tbody>\n",
       "    <tr>\n",
       "      <th>L00006534</th>\n",
       "      <td>A00007542</td>\n",
       "      <td>590820</td>\n",
       "      <td>60</td>\n",
       "      <td>9847</td>\n",
       "      <td>C</td>\n",
       "      <td>2017</td>\n",
       "      <td>10</td>\n",
       "      <td>19</td>\n",
       "      <td>2017-10-19</td>\n",
       "      <td>1</td>\n",
       "      <td>home</td>\n",
       "    </tr>\n",
       "    <tr>\n",
       "      <th>L00006791</th>\n",
       "      <td>A00008926</td>\n",
       "      <td>566640</td>\n",
       "      <td>60</td>\n",
       "      <td>9444</td>\n",
       "      <td>C</td>\n",
       "      <td>2018</td>\n",
       "      <td>1</td>\n",
       "      <td>23</td>\n",
       "      <td>2018-01-23</td>\n",
       "      <td>1</td>\n",
       "      <td>home</td>\n",
       "    </tr>\n",
       "    <tr>\n",
       "      <th>L00005447</th>\n",
       "      <td>A00002335</td>\n",
       "      <td>541200</td>\n",
       "      <td>60</td>\n",
       "      <td>9020</td>\n",
       "      <td>D</td>\n",
       "      <td>2017</td>\n",
       "      <td>11</td>\n",
       "      <td>12</td>\n",
       "      <td>2017-11-12</td>\n",
       "      <td>59</td>\n",
       "      <td>home</td>\n",
       "    </tr>\n",
       "  </tbody>\n",
       "</table>\n",
       "</div>"
      ],
      "text/plain": [
       "          account_id  amount  duration  payments status  year  month  day  \\\n",
       "loan_id                                                                     \n",
       "L00006534  A00007542  590820        60      9847      C  2017     10   19   \n",
       "L00006791  A00008926  566640        60      9444      C  2018      1   23   \n",
       "L00005447  A00002335  541200        60      9020      D  2017     11   12   \n",
       "\n",
       "             fulldate  location purpose  \n",
       "loan_id                                  \n",
       "L00006534  2017-10-19         1    home  \n",
       "L00006791  2018-01-23         1    home  \n",
       "L00005447  2017-11-12        59    home  "
      ]
     },
     "execution_count": 24,
     "metadata": {},
     "output_type": "execute_result"
    }
   ],
   "source": [
    "l = loan_data.nlargest(3,'amount')\n",
    "l"
   ]
  },
  {
   "cell_type": "code",
   "execution_count": 11,
   "id": "c452ddec",
   "metadata": {},
   "outputs": [
    {
     "data": {
      "text/html": [
       "<div>\n",
       "<style scoped>\n",
       "    .dataframe tbody tr th:only-of-type {\n",
       "        vertical-align: middle;\n",
       "    }\n",
       "\n",
       "    .dataframe tbody tr th {\n",
       "        vertical-align: top;\n",
       "    }\n",
       "\n",
       "    .dataframe thead th {\n",
       "        text-align: right;\n",
       "    }\n",
       "</style>\n",
       "<table border=\"1\" class=\"dataframe\">\n",
       "  <thead>\n",
       "    <tr style=\"text-align: right;\">\n",
       "      <th></th>\n",
       "      <th>amount</th>\n",
       "    </tr>\n",
       "    <tr>\n",
       "      <th>duration</th>\n",
       "      <th></th>\n",
       "    </tr>\n",
       "  </thead>\n",
       "  <tbody>\n",
       "    <tr>\n",
       "      <th>12</th>\n",
       "      <td>53635.511450</td>\n",
       "    </tr>\n",
       "    <tr>\n",
       "      <th>24</th>\n",
       "      <td>99217.913043</td>\n",
       "    </tr>\n",
       "    <tr>\n",
       "      <th>36</th>\n",
       "      <td>144048.184615</td>\n",
       "    </tr>\n",
       "    <tr>\n",
       "      <th>48</th>\n",
       "      <td>205592.695652</td>\n",
       "    </tr>\n",
       "    <tr>\n",
       "      <th>60</th>\n",
       "      <td>244450.758621</td>\n",
       "    </tr>\n",
       "  </tbody>\n",
       "</table>\n",
       "</div>"
      ],
      "text/plain": [
       "                 amount\n",
       "duration               \n",
       "12         53635.511450\n",
       "24         99217.913043\n",
       "36        144048.184615\n",
       "48        205592.695652\n",
       "60        244450.758621"
      ]
     },
     "execution_count": 11,
     "metadata": {},
     "output_type": "execute_result"
    }
   ],
   "source": [
    "average_loan = pd.DataFrame(loan_data.groupby(['duration'])['amount'].mean())\n",
    "average_loan"
   ]
  },
  {
   "cell_type": "code",
   "execution_count": 12,
   "id": "45bb8966",
   "metadata": {},
   "outputs": [
    {
     "data": {
      "text/plain": [
       "Text(0.5, 1.0, 'Average amount cross duration')"
      ]
     },
     "execution_count": 12,
     "metadata": {},
     "output_type": "execute_result"
    },
    {
     "data": {
      "image/png": "[encoded data removed]",
      "text/plain": [
       "<Figure size 900x400 with 1 Axes>"
      ]
     },
     "metadata": {},
     "output_type": "display_data"
    }
   ],
   "source": [
    "plt.figure(figsize=(9,4))\n",
    "plt.bar(average_loan.index,average_loan['amount'])\n",
    "plt.xlabel('duration')\n",
    "plt.ylabel('Average Loan amount')\n",
    "plt.title('Average amount cross duration')"
   ]
  },
  {
   "cell_type": "markdown",
   "id": "03667254",
   "metadata": {},
   "source": [
    "## Level 2: Analyzing (3 points per task)\n",
    "1. How many of the loans taken are by males and how many of them are by females?\n",
    "2. Create categories for the ages of the clients\n",
    "a. <25\n",
    "b. 25-35\n",
    "c. 35-45\n",
    "d. 50-65\n",
    "e. >65\n",
    "3. Check which age group has the highest count of loans? Visualize this\n",
    "4. Check which age group has the highest value of loans? Visualize this\n",
    "5. Create categories for the loan “amounts”:\n",
    "a. '-75K'\n",
    "b. '75K-150K'\n",
    "c. '150K-250K'\n",
    "d. '250K-350K'\n",
    "e. '350K+'\n",
    "6. What are the different frequencies for loan payments?"
   ]
  },
  {
   "cell_type": "markdown",
   "id": "a638fb71",
   "metadata": {},
   "source": [
    "1. How many of the loans taken are by males and how many of them are by females?"
   ]
  },
  {
   "cell_type": "code",
   "execution_count": 25,
   "id": "da117a9d",
   "metadata": {},
   "outputs": [],
   "source": [
    "clinet_data = pd.read_csv('completedclient.csv')\n",
    "disposition_data = pd.read_csv('completeddisposition.csv')"
   ]
  },
  {
   "cell_type": "code",
   "execution_count": 26,
   "id": "47d779dd",
   "metadata": {},
   "outputs": [],
   "source": [
    "clinet_owner = disposition_data[disposition_data['type'] == 'Owner']\n",
    "client_owner = clinet_owner['client_id']\n",
    "clinet_owner = clinet_owner.merge(clinet_data,how='left',on ='client_id')\n",
    "clinet_owner = clinet_owner[['sex','account_id','age']]\n",
    "loan_data = loan_data.merge(clinet_owner,how='left',on='account_id')"
   ]
  },
  {
   "cell_type": "code",
   "execution_count": 27,
   "id": "205d687b",
   "metadata": {},
   "outputs": [
    {
     "data": {
      "text/plain": [
       "Female    348\n",
       "Male      334\n",
       "Name: sex, dtype: int64"
      ]
     },
     "execution_count": 27,
     "metadata": {},
     "output_type": "execute_result"
    }
   ],
   "source": [
    "loan_data['sex'].value_counts()"
   ]
  },
  {
   "cell_type": "markdown",
   "id": "75e141bd",
   "metadata": {},
   "source": [
    "2. Create categories for the ages of the clients\n",
    "a. <25\n",
    "b. 25-35\n",
    "c. 35-45\n",
    "d. 50-65\n",
    "e. >65"
   ]
  },
  {
   "cell_type": "code",
   "execution_count": 28,
   "id": "a3fb09d0",
   "metadata": {},
   "outputs": [],
   "source": [
    "loan_data['Age_Group'] = ''\n",
    "loan_data['Age_Group'] = np.where(loan_data['age']<25,'<25',loan_data['Age_Group'])\n",
    "loan_data['Age_Group'] = np.where((loan_data['age']>=25) & (loan_data['age'] < 35),'25-35',loan_data['Age_Group'])\n",
    "loan_data['Age_Group'] = np.where((loan_data['age']>=35) & (loan_data['age'] < 45),'35-45',loan_data['Age_Group'])\n",
    "loan_data['Age_Group'] = np.where((loan_data['age']>=45) & (loan_data['age'] < 55),'45-55',loan_data['Age_Group'])\n",
    "loan_data['Age_Group'] = np.where((loan_data['age']>=55),'>55',loan_data['Age_Group'])"
   ]
  },
  {
   "cell_type": "markdown",
   "id": "d11680f8",
   "metadata": {},
   "source": [
    "3. Check which age group has the highest count of loans? Visualize this"
   ]
  },
  {
   "cell_type": "code",
   "execution_count": 17,
   "id": "84e0f872",
   "metadata": {},
   "outputs": [
    {
     "data": {
      "text/plain": [
       "35-45    166\n",
       "25-35    154\n",
       "45-55    152\n",
       ">55      128\n",
       "<25       82\n",
       "Name: Age_Group, dtype: int64"
      ]
     },
     "execution_count": 17,
     "metadata": {},
     "output_type": "execute_result"
    }
   ],
   "source": [
    "loan_data['Age_Group'].value_counts()"
   ]
  },
  {
   "cell_type": "code",
   "execution_count": 29,
   "id": "00ea94b0",
   "metadata": {},
   "outputs": [
    {
     "data": {
      "text/plain": [
       "Text(0.5, 1.0, 'Loan Count Cross Age Group')"
      ]
     },
     "execution_count": 29,
     "metadata": {},
     "output_type": "execute_result"
    },
    {
     "data": {
      "image/png": "[encoded data removed]",
      "text/plain": [
       "<Figure size 900x400 with 1 Axes>"
      ]
     },
     "metadata": {},
     "output_type": "display_data"
    }
   ],
   "source": [
    "plt.figure(figsize=(9,4))\n",
    "plt.bar(loan_data['Age_Group'].value_counts().keys().sort_values(),loan_data['Age_Group'].value_counts().sort_index())\n",
    "plt.xlabel('Age_Group')\n",
    "plt.ylabel('Loan Count')\n",
    "plt.title('Loan Count Cross Age Group')"
   ]
  },
  {
   "cell_type": "markdown",
   "id": "4932e4b3",
   "metadata": {},
   "source": [
    "4. Check which age group has the highest value of loans? Visualize this"
   ]
  },
  {
   "cell_type": "code",
   "execution_count": 19,
   "id": "16f1b104",
   "metadata": {},
   "outputs": [
    {
     "data": {
      "text/plain": [
       "Age_Group\n",
       "25-35    24188472\n",
       "35-45    24350700\n",
       "45-55    23345196\n",
       "<25      13660932\n",
       ">55      17716440\n",
       "Name: amount, dtype: int64"
      ]
     },
     "execution_count": 19,
     "metadata": {},
     "output_type": "execute_result"
    }
   ],
   "source": [
    "loan_data.groupby(['Age_Group'])['amount'].sum()"
   ]
  },
  {
   "cell_type": "code",
   "execution_count": 20,
   "id": "3b71a209",
   "metadata": {},
   "outputs": [
    {
     "data": {
      "text/plain": [
       "Text(0.5, 1.0, 'Total Loan Cross Age Group')"
      ]
     },
     "execution_count": 20,
     "metadata": {},
     "output_type": "execute_result"
    },
    {
     "data": {
      "image/png": "[encoded data removed]",
      "text/plain": [
       "<Figure size 900x400 with 1 Axes>"
      ]
     },
     "metadata": {},
     "output_type": "display_data"
    }
   ],
   "source": [
    "plt.figure(figsize=(9,4))\n",
    "plt.bar(loan_data.groupby(['Age_Group'])['amount'].sum().keys().sort_values(),\n",
    "        loan_data.groupby(['Age_Group'])['amount'].sum().sort_index())\n",
    "plt.xlabel('Age_Group')\n",
    "plt.ylabel('Total Loan')\n",
    "plt.title('Total Loan Cross Age Group')"
   ]
  },
  {
   "cell_type": "markdown",
   "id": "5ff0b4e6",
   "metadata": {},
   "source": [
    "5. Create categories for the loan “amounts”:\n",
    "a. '-75K'\n",
    "b. '75K-150K'\n",
    "c. '150K-250K'\n",
    "d. '250K-350K'\n",
    "e. '350K+'"
   ]
  },
  {
   "cell_type": "code",
   "execution_count": 30,
   "id": "135ce7f9",
   "metadata": {},
   "outputs": [],
   "source": [
    "loan_data['Amount_Group'] = ''\n",
    "loan_data['Amount_Group'] = np.where(loan_data['amount']<75000,'-75K',loan_data['Amount_Group'])\n",
    "loan_data['Amount_Group'] = np.where((loan_data['amount']>=75000) & (loan_data['amount'] < 150000),'75K-150K'\n",
    "                                     ,loan_data['Amount_Group'])\n",
    "loan_data['Amount_Group'] = np.where((loan_data['amount']>=150000) & (loan_data['amount'] < 250000),'150K-250K',\n",
    "                                     loan_data['Amount_Group'])\n",
    "loan_data['Amount_Group'] = np.where((loan_data['amount']>=250000) & (loan_data['amount'] < 350000),'250K-350K',\n",
    "                                     loan_data['Amount_Group'])\n",
    "loan_data['Amount_Group'] = np.where((loan_data['amount']>=350000),'>350K',loan_data['Amount_Group'])"
   ]
  },
  {
   "cell_type": "markdown",
   "id": "08995195",
   "metadata": {},
   "source": [
    "6. What are the different frequencies for loan payments?"
   ]
  },
  {
   "cell_type": "code",
   "execution_count": 22,
   "id": "7d676093",
   "metadata": {},
   "outputs": [
    {
     "data": {
      "text/plain": [
       "-75K         206\n",
       "75K-150K     189\n",
       "150K-250K    161\n",
       "250K-350K     78\n",
       ">350K         48\n",
       "Name: Amount_Group, dtype: int64"
      ]
     },
     "execution_count": 22,
     "metadata": {},
     "output_type": "execute_result"
    }
   ],
   "source": [
    "loan_data['Amount_Group'].value_counts()"
   ]
  },
  {
   "cell_type": "markdown",
   "id": "dc9987b8",
   "metadata": {},
   "source": [
    "## Level 3: Modeling\n",
    "1. Create a model to predict the transaction purpose (10 points)\n",
    "a. Try out at least 3 different models, and comment on why you chose these models\n",
    "b. Measure accuracy (at least one model should have accuracy of 80% or higher)\n",
    "2. Create a model to predict the transaction \"amount category\" (10 points)\n",
    "a. Try out at least 3 different models, and comment on why you chose these models\n",
    "b. Measure accuracy (at least one model should have accuracy of 80% or higher)\n",
    "3. Time to clean up your work. Organize your notebook, gather your findings, prepare recommendations and\n",
    "get ready to present them. (5 points)"
   ]
  },
  {
   "cell_type": "code",
   "execution_count": 31,
   "id": "c36f58fb",
   "metadata": {},
   "outputs": [],
   "source": [
    "raw_data = loan_data.copy()"
   ]
  },
  {
   "cell_type": "code",
   "execution_count": 32,
   "id": "7d5f55cc",
   "metadata": {},
   "outputs": [
    {
     "data": {
      "text/plain": [
       "Index(['account_id', 'amount', 'duration', 'payments', 'status', 'year',\n",
       "       'month', 'day', 'fulldate', 'location', 'purpose', 'sex', 'age',\n",
       "       'Age_Group', 'Amount_Group'],\n",
       "      dtype='object')"
      ]
     },
     "execution_count": 32,
     "metadata": {},
     "output_type": "execute_result"
    }
   ],
   "source": [
    "raw_data.columns"
   ]
  },
  {
   "cell_type": "code",
   "execution_count": 33,
   "id": "f4bf3cce",
   "metadata": {},
   "outputs": [],
   "source": [
    "features = ['amount', 'duration', 'payments', 'status', 'year',\n",
    "       'month', 'day', 'location', 'purpose', 'sex', 'age',\n",
    "       'Age_Group', 'Amount_Group']"
   ]
  },
  {
   "cell_type": "code",
   "execution_count": 34,
   "id": "585b3e16",
   "metadata": {},
   "outputs": [],
   "source": [
    "raw_data = raw_data[features]"
   ]
  },
  {
   "cell_type": "code",
   "execution_count": 35,
   "id": "5a0a00df",
   "metadata": {},
   "outputs": [
    {
     "data": {
      "text/html": [
       "<style>#sk-container-id-1 {color: black;background-color: white;}#sk-container-id-1 pre{padding: 0;}#sk-container-id-1 div.sk-toggleable {background-color: white;}#sk-container-id-1 label.sk-toggleable__label {cursor: pointer;display: block;width: 100%;margin-bottom: 0;padding: 0.3em;box-sizing: border-box;text-align: center;}#sk-container-id-1 label.sk-toggleable__label-arrow:before {content: \"▸\";float: left;margin-right: 0.25em;color: #696969;}#sk-container-id-1 label.sk-toggleable__label-arrow:hover:before {color: black;}#sk-container-id-1 div.sk-estimator:hover label.sk-toggleable__label-arrow:before {color: black;}#sk-container-id-1 div.sk-toggleable__content {max-height: 0;max-width: 0;overflow: hidden;text-align: left;background-color: #f0f8ff;}#sk-container-id-1 div.sk-toggleable__content pre {margin: 0.2em;color: black;border-radius: 0.25em;background-color: #f0f8ff;}#sk-container-id-1 input.sk-toggleable__control:checked~div.sk-toggleable__content {max-height: 200px;max-width: 100%;overflow: auto;}#sk-container-id-1 input.sk-toggleable__control:checked~label.sk-toggleable__label-arrow:before {content: \"▾\";}#sk-container-id-1 div.sk-estimator input.sk-toggleable__control:checked~label.sk-toggleable__label {background-color: #d4ebff;}#sk-container-id-1 div.sk-label input.sk-toggleable__control:checked~label.sk-toggleable__label {background-color: #d4ebff;}#sk-container-id-1 input.sk-hidden--visually {border: 0;clip: rect(1px 1px 1px 1px);clip: rect(1px, 1px, 1px, 1px);height: 1px;margin: -1px;overflow: hidden;padding: 0;position: absolute;width: 1px;}#sk-container-id-1 div.sk-estimator {font-family: monospace;background-color: #f0f8ff;border: 1px dotted black;border-radius: 0.25em;box-sizing: border-box;margin-bottom: 0.5em;}#sk-container-id-1 div.sk-estimator:hover {background-color: #d4ebff;}#sk-container-id-1 div.sk-parallel-item::after {content: \"\";width: 100%;border-bottom: 1px solid gray;flex-grow: 1;}#sk-container-id-1 div.sk-label:hover label.sk-toggleable__label {background-color: #d4ebff;}#sk-container-id-1 div.sk-serial::before {content: \"\";position: absolute;border-left: 1px solid gray;box-sizing: border-box;top: 0;bottom: 0;left: 50%;z-index: 0;}#sk-container-id-1 div.sk-serial {display: flex;flex-direction: column;align-items: center;background-color: white;padding-right: 0.2em;padding-left: 0.2em;position: relative;}#sk-container-id-1 div.sk-item {position: relative;z-index: 1;}#sk-container-id-1 div.sk-parallel {display: flex;align-items: stretch;justify-content: center;background-color: white;position: relative;}#sk-container-id-1 div.sk-item::before, #sk-container-id-1 div.sk-parallel-item::before {content: \"\";position: absolute;border-left: 1px solid gray;box-sizing: border-box;top: 0;bottom: 0;left: 50%;z-index: -1;}#sk-container-id-1 div.sk-parallel-item {display: flex;flex-direction: column;z-index: 1;position: relative;background-color: white;}#sk-container-id-1 div.sk-parallel-item:first-child::after {align-self: flex-end;width: 50%;}#sk-container-id-1 div.sk-parallel-item:last-child::after {align-self: flex-start;width: 50%;}#sk-container-id-1 div.sk-parallel-item:only-child::after {width: 0;}#sk-container-id-1 div.sk-dashed-wrapped {border: 1px dashed gray;margin: 0 0.4em 0.5em 0.4em;box-sizing: border-box;padding-bottom: 0.4em;background-color: white;}#sk-container-id-1 div.sk-label label {font-family: monospace;font-weight: bold;display: inline-block;line-height: 1.2em;}#sk-container-id-1 div.sk-label-container {text-align: center;}#sk-container-id-1 div.sk-container {/* jupyter's `normalize.less` sets `[hidden] { display: none; }` but bootstrap.min.css set `[hidden] { display: none !important; }` so we also need the `!important` here to be able to override the default hidden behavior on the sphinx rendered scikit-learn.org. See: https://github.com/scikit-learn/scikit-learn/issues/21755 */display: inline-block !important;position: relative;}#sk-container-id-1 div.sk-text-repr-fallback {display: none;}</style><div id=\"sk-container-id-1\" class=\"sk-top-container\"><div class=\"sk-text-repr-fallback\"><pre>LabelEncoder()</pre><b>In a Jupyter environment, please rerun this cell to show the HTML representation or trust the notebook. <br />On GitHub, the HTML representation is unable to render, please try loading this page with nbviewer.org.</b></div><div class=\"sk-container\" hidden><div class=\"sk-item\"><div class=\"sk-estimator sk-toggleable\"><input class=\"sk-toggleable__control sk-hidden--visually\" id=\"sk-estimator-id-1\" type=\"checkbox\" checked><label for=\"sk-estimator-id-1\" class=\"sk-toggleable__label sk-toggleable__label-arrow\">LabelEncoder</label><div class=\"sk-toggleable__content\"><pre>LabelEncoder()</pre></div></div></div></div></div>"
      ],
      "text/plain": [
       "LabelEncoder()"
      ]
     },
     "execution_count": 35,
     "metadata": {},
     "output_type": "execute_result"
    }
   ],
   "source": [
    "le = LabelEncoder()\n",
    "le.fit(raw_data['purpose'])"
   ]
  },
  {
   "cell_type": "code",
   "execution_count": 36,
   "id": "961a8502",
   "metadata": {},
   "outputs": [
    {
     "data": {
      "text/plain": [
       "array([0, 1, 3, 2])"
      ]
     },
     "execution_count": 36,
     "metadata": {},
     "output_type": "execute_result"
    }
   ],
   "source": [
    "raw_data['purpose'] = le.fit_transform(raw_data['purpose'])\n",
    "raw_data['purpose'].unique()"
   ]
  },
  {
   "cell_type": "code",
   "execution_count": 37,
   "id": "ee7181dd",
   "metadata": {},
   "outputs": [],
   "source": [
    "raw_data = pd.get_dummies(raw_data,drop_first=True)"
   ]
  },
  {
   "cell_type": "code",
   "execution_count": null,
   "id": "fb1d1b50",
   "metadata": {},
   "outputs": [],
   "source": []
  },
  {
   "cell_type": "code",
   "execution_count": 38,
   "id": "637b91ac",
   "metadata": {},
   "outputs": [],
   "source": [
    "inputs = raw_data.drop('purpose',axis=1)\n",
    "target = raw_data['purpose']"
   ]
  },
  {
   "cell_type": "code",
   "execution_count": 39,
   "id": "405af7c9",
   "metadata": {},
   "outputs": [
    {
     "data": {
      "text/html": [
       "<div>\n",
       "<style scoped>\n",
       "    .dataframe tbody tr th:only-of-type {\n",
       "        vertical-align: middle;\n",
       "    }\n",
       "\n",
       "    .dataframe tbody tr th {\n",
       "        vertical-align: top;\n",
       "    }\n",
       "\n",
       "    .dataframe thead th {\n",
       "        text-align: right;\n",
       "    }\n",
       "</style>\n",
       "<table border=\"1\" class=\"dataframe\">\n",
       "  <thead>\n",
       "    <tr style=\"text-align: right;\">\n",
       "      <th></th>\n",
       "      <th>amount</th>\n",
       "      <th>duration</th>\n",
       "      <th>payments</th>\n",
       "      <th>year</th>\n",
       "      <th>month</th>\n",
       "      <th>day</th>\n",
       "      <th>location</th>\n",
       "      <th>age</th>\n",
       "      <th>status_B</th>\n",
       "      <th>status_C</th>\n",
       "      <th>status_D</th>\n",
       "      <th>sex_Male</th>\n",
       "      <th>Age_Group_35-45</th>\n",
       "      <th>Age_Group_45-55</th>\n",
       "      <th>Age_Group_&lt;25</th>\n",
       "      <th>Age_Group_&gt;55</th>\n",
       "      <th>Amount_Group_150K-250K</th>\n",
       "      <th>Amount_Group_250K-350K</th>\n",
       "      <th>Amount_Group_75K-150K</th>\n",
       "      <th>Amount_Group_&gt;350K</th>\n",
       "    </tr>\n",
       "  </thead>\n",
       "  <tbody>\n",
       "    <tr>\n",
       "      <th>0</th>\n",
       "      <td>4980</td>\n",
       "      <td>12</td>\n",
       "      <td>415</td>\n",
       "      <td>2014</td>\n",
       "      <td>7</td>\n",
       "      <td>5</td>\n",
       "      <td>59</td>\n",
       "      <td>47</td>\n",
       "      <td>0</td>\n",
       "      <td>0</td>\n",
       "      <td>0</td>\n",
       "      <td>0</td>\n",
       "      <td>0</td>\n",
       "      <td>1</td>\n",
       "      <td>0</td>\n",
       "      <td>0</td>\n",
       "      <td>0</td>\n",
       "      <td>0</td>\n",
       "      <td>0</td>\n",
       "      <td>0</td>\n",
       "    </tr>\n",
       "    <tr>\n",
       "      <th>1</th>\n",
       "      <td>5148</td>\n",
       "      <td>12</td>\n",
       "      <td>429</td>\n",
       "      <td>2018</td>\n",
       "      <td>5</td>\n",
       "      <td>28</td>\n",
       "      <td>1</td>\n",
       "      <td>36</td>\n",
       "      <td>0</td>\n",
       "      <td>1</td>\n",
       "      <td>0</td>\n",
       "      <td>0</td>\n",
       "      <td>1</td>\n",
       "      <td>0</td>\n",
       "      <td>0</td>\n",
       "      <td>0</td>\n",
       "      <td>0</td>\n",
       "      <td>0</td>\n",
       "      <td>0</td>\n",
       "      <td>0</td>\n",
       "    </tr>\n",
       "    <tr>\n",
       "      <th>2</th>\n",
       "      <td>7656</td>\n",
       "      <td>24</td>\n",
       "      <td>319</td>\n",
       "      <td>2014</td>\n",
       "      <td>3</td>\n",
       "      <td>30</td>\n",
       "      <td>1</td>\n",
       "      <td>37</td>\n",
       "      <td>0</td>\n",
       "      <td>0</td>\n",
       "      <td>0</td>\n",
       "      <td>0</td>\n",
       "      <td>1</td>\n",
       "      <td>0</td>\n",
       "      <td>0</td>\n",
       "      <td>0</td>\n",
       "      <td>0</td>\n",
       "      <td>0</td>\n",
       "      <td>0</td>\n",
       "      <td>0</td>\n",
       "    </tr>\n",
       "    <tr>\n",
       "      <th>3</th>\n",
       "      <td>8616</td>\n",
       "      <td>24</td>\n",
       "      <td>359</td>\n",
       "      <td>2017</td>\n",
       "      <td>9</td>\n",
       "      <td>26</td>\n",
       "      <td>1</td>\n",
       "      <td>24</td>\n",
       "      <td>0</td>\n",
       "      <td>1</td>\n",
       "      <td>0</td>\n",
       "      <td>1</td>\n",
       "      <td>0</td>\n",
       "      <td>0</td>\n",
       "      <td>1</td>\n",
       "      <td>0</td>\n",
       "      <td>0</td>\n",
       "      <td>0</td>\n",
       "      <td>0</td>\n",
       "      <td>0</td>\n",
       "    </tr>\n",
       "    <tr>\n",
       "      <th>4</th>\n",
       "      <td>10944</td>\n",
       "      <td>36</td>\n",
       "      <td>304</td>\n",
       "      <td>2018</td>\n",
       "      <td>5</td>\n",
       "      <td>17</td>\n",
       "      <td>1</td>\n",
       "      <td>48</td>\n",
       "      <td>0</td>\n",
       "      <td>1</td>\n",
       "      <td>0</td>\n",
       "      <td>1</td>\n",
       "      <td>0</td>\n",
       "      <td>1</td>\n",
       "      <td>0</td>\n",
       "      <td>0</td>\n",
       "      <td>0</td>\n",
       "      <td>0</td>\n",
       "      <td>0</td>\n",
       "      <td>0</td>\n",
       "    </tr>\n",
       "    <tr>\n",
       "      <th>...</th>\n",
       "      <td>...</td>\n",
       "      <td>...</td>\n",
       "      <td>...</td>\n",
       "      <td>...</td>\n",
       "      <td>...</td>\n",
       "      <td>...</td>\n",
       "      <td>...</td>\n",
       "      <td>...</td>\n",
       "      <td>...</td>\n",
       "      <td>...</td>\n",
       "      <td>...</td>\n",
       "      <td>...</td>\n",
       "      <td>...</td>\n",
       "      <td>...</td>\n",
       "      <td>...</td>\n",
       "      <td>...</td>\n",
       "      <td>...</td>\n",
       "      <td>...</td>\n",
       "      <td>...</td>\n",
       "      <td>...</td>\n",
       "    </tr>\n",
       "    <tr>\n",
       "      <th>677</th>\n",
       "      <td>504000</td>\n",
       "      <td>60</td>\n",
       "      <td>8400</td>\n",
       "      <td>2018</td>\n",
       "      <td>1</td>\n",
       "      <td>20</td>\n",
       "      <td>18</td>\n",
       "      <td>28</td>\n",
       "      <td>0</td>\n",
       "      <td>1</td>\n",
       "      <td>0</td>\n",
       "      <td>1</td>\n",
       "      <td>0</td>\n",
       "      <td>0</td>\n",
       "      <td>0</td>\n",
       "      <td>0</td>\n",
       "      <td>0</td>\n",
       "      <td>0</td>\n",
       "      <td>0</td>\n",
       "      <td>1</td>\n",
       "    </tr>\n",
       "    <tr>\n",
       "      <th>678</th>\n",
       "      <td>538500</td>\n",
       "      <td>60</td>\n",
       "      <td>8975</td>\n",
       "      <td>2015</td>\n",
       "      <td>2</td>\n",
       "      <td>17</td>\n",
       "      <td>64</td>\n",
       "      <td>39</td>\n",
       "      <td>0</td>\n",
       "      <td>1</td>\n",
       "      <td>0</td>\n",
       "      <td>1</td>\n",
       "      <td>1</td>\n",
       "      <td>0</td>\n",
       "      <td>0</td>\n",
       "      <td>0</td>\n",
       "      <td>0</td>\n",
       "      <td>0</td>\n",
       "      <td>0</td>\n",
       "      <td>1</td>\n",
       "    </tr>\n",
       "    <tr>\n",
       "      <th>679</th>\n",
       "      <td>541200</td>\n",
       "      <td>60</td>\n",
       "      <td>9020</td>\n",
       "      <td>2017</td>\n",
       "      <td>11</td>\n",
       "      <td>12</td>\n",
       "      <td>59</td>\n",
       "      <td>53</td>\n",
       "      <td>0</td>\n",
       "      <td>0</td>\n",
       "      <td>1</td>\n",
       "      <td>0</td>\n",
       "      <td>0</td>\n",
       "      <td>1</td>\n",
       "      <td>0</td>\n",
       "      <td>0</td>\n",
       "      <td>0</td>\n",
       "      <td>0</td>\n",
       "      <td>0</td>\n",
       "      <td>1</td>\n",
       "    </tr>\n",
       "    <tr>\n",
       "      <th>680</th>\n",
       "      <td>566640</td>\n",
       "      <td>60</td>\n",
       "      <td>9444</td>\n",
       "      <td>2018</td>\n",
       "      <td>1</td>\n",
       "      <td>23</td>\n",
       "      <td>1</td>\n",
       "      <td>27</td>\n",
       "      <td>0</td>\n",
       "      <td>1</td>\n",
       "      <td>0</td>\n",
       "      <td>0</td>\n",
       "      <td>0</td>\n",
       "      <td>0</td>\n",
       "      <td>0</td>\n",
       "      <td>0</td>\n",
       "      <td>0</td>\n",
       "      <td>0</td>\n",
       "      <td>0</td>\n",
       "      <td>1</td>\n",
       "    </tr>\n",
       "    <tr>\n",
       "      <th>681</th>\n",
       "      <td>590820</td>\n",
       "      <td>60</td>\n",
       "      <td>9847</td>\n",
       "      <td>2017</td>\n",
       "      <td>10</td>\n",
       "      <td>19</td>\n",
       "      <td>1</td>\n",
       "      <td>32</td>\n",
       "      <td>0</td>\n",
       "      <td>1</td>\n",
       "      <td>0</td>\n",
       "      <td>1</td>\n",
       "      <td>0</td>\n",
       "      <td>0</td>\n",
       "      <td>0</td>\n",
       "      <td>0</td>\n",
       "      <td>0</td>\n",
       "      <td>0</td>\n",
       "      <td>0</td>\n",
       "      <td>1</td>\n",
       "    </tr>\n",
       "  </tbody>\n",
       "</table>\n",
       "<p>682 rows × 20 columns</p>\n",
       "</div>"
      ],
      "text/plain": [
       "     amount  duration  payments  year  month  day  location  age  status_B  \\\n",
       "0      4980        12       415  2014      7    5        59   47         0   \n",
       "1      5148        12       429  2018      5   28         1   36         0   \n",
       "2      7656        24       319  2014      3   30         1   37         0   \n",
       "3      8616        24       359  2017      9   26         1   24         0   \n",
       "4     10944        36       304  2018      5   17         1   48         0   \n",
       "..      ...       ...       ...   ...    ...  ...       ...  ...       ...   \n",
       "677  504000        60      8400  2018      1   20        18   28         0   \n",
       "678  538500        60      8975  2015      2   17        64   39         0   \n",
       "679  541200        60      9020  2017     11   12        59   53         0   \n",
       "680  566640        60      9444  2018      1   23         1   27         0   \n",
       "681  590820        60      9847  2017     10   19         1   32         0   \n",
       "\n",
       "     status_C  status_D  sex_Male  Age_Group_35-45  Age_Group_45-55  \\\n",
       "0           0         0         0                0                1   \n",
       "1           1         0         0                1                0   \n",
       "2           0         0         0                1                0   \n",
       "3           1         0         1                0                0   \n",
       "4           1         0         1                0                1   \n",
       "..        ...       ...       ...              ...              ...   \n",
       "677         1         0         1                0                0   \n",
       "678         1         0         1                1                0   \n",
       "679         0         1         0                0                1   \n",
       "680         1         0         0                0                0   \n",
       "681         1         0         1                0                0   \n",
       "\n",
       "     Age_Group_<25  Age_Group_>55  Amount_Group_150K-250K  \\\n",
       "0                0              0                       0   \n",
       "1                0              0                       0   \n",
       "2                0              0                       0   \n",
       "3                1              0                       0   \n",
       "4                0              0                       0   \n",
       "..             ...            ...                     ...   \n",
       "677              0              0                       0   \n",
       "678              0              0                       0   \n",
       "679              0              0                       0   \n",
       "680              0              0                       0   \n",
       "681              0              0                       0   \n",
       "\n",
       "     Amount_Group_250K-350K  Amount_Group_75K-150K  Amount_Group_>350K  \n",
       "0                         0                      0                   0  \n",
       "1                         0                      0                   0  \n",
       "2                         0                      0                   0  \n",
       "3                         0                      0                   0  \n",
       "4                         0                      0                   0  \n",
       "..                      ...                    ...                 ...  \n",
       "677                       0                      0                   1  \n",
       "678                       0                      0                   1  \n",
       "679                       0                      0                   1  \n",
       "680                       0                      0                   1  \n",
       "681                       0                      0                   1  \n",
       "\n",
       "[682 rows x 20 columns]"
      ]
     },
     "execution_count": 39,
     "metadata": {},
     "output_type": "execute_result"
    }
   ],
   "source": [
    "inputs"
   ]
  },
  {
   "cell_type": "code",
   "execution_count": 40,
   "id": "e6321be6",
   "metadata": {},
   "outputs": [],
   "source": [
    "x_train,x_test,y_train,y_test = train_test_split(inputs,target,test_size=0.15,random_state=1234)"
   ]
  },
  {
   "cell_type": "code",
   "execution_count": 41,
   "id": "53c3a7c6",
   "metadata": {},
   "outputs": [
    {
     "data": {
      "text/html": [
       "<div>\n",
       "<style scoped>\n",
       "    .dataframe tbody tr th:only-of-type {\n",
       "        vertical-align: middle;\n",
       "    }\n",
       "\n",
       "    .dataframe tbody tr th {\n",
       "        vertical-align: top;\n",
       "    }\n",
       "\n",
       "    .dataframe thead th {\n",
       "        text-align: right;\n",
       "    }\n",
       "</style>\n",
       "<table border=\"1\" class=\"dataframe\">\n",
       "  <thead>\n",
       "    <tr style=\"text-align: right;\">\n",
       "      <th></th>\n",
       "      <th>amount</th>\n",
       "      <th>duration</th>\n",
       "      <th>payments</th>\n",
       "      <th>year</th>\n",
       "      <th>month</th>\n",
       "      <th>day</th>\n",
       "      <th>location</th>\n",
       "      <th>age</th>\n",
       "      <th>status_B</th>\n",
       "      <th>status_C</th>\n",
       "      <th>status_D</th>\n",
       "      <th>sex_Male</th>\n",
       "      <th>Age_Group_35-45</th>\n",
       "      <th>Age_Group_45-55</th>\n",
       "      <th>Age_Group_&lt;25</th>\n",
       "      <th>Age_Group_&gt;55</th>\n",
       "      <th>Amount_Group_150K-250K</th>\n",
       "      <th>Amount_Group_250K-350K</th>\n",
       "      <th>Amount_Group_75K-150K</th>\n",
       "      <th>Amount_Group_&gt;350K</th>\n",
       "    </tr>\n",
       "  </thead>\n",
       "  <tbody>\n",
       "    <tr>\n",
       "      <th>309</th>\n",
       "      <td>100800</td>\n",
       "      <td>24</td>\n",
       "      <td>4200</td>\n",
       "      <td>2017</td>\n",
       "      <td>8</td>\n",
       "      <td>15</td>\n",
       "      <td>1</td>\n",
       "      <td>61</td>\n",
       "      <td>0</td>\n",
       "      <td>0</td>\n",
       "      <td>1</td>\n",
       "      <td>1</td>\n",
       "      <td>0</td>\n",
       "      <td>0</td>\n",
       "      <td>0</td>\n",
       "      <td>1</td>\n",
       "      <td>0</td>\n",
       "      <td>0</td>\n",
       "      <td>1</td>\n",
       "      <td>0</td>\n",
       "    </tr>\n",
       "    <tr>\n",
       "      <th>409</th>\n",
       "      <td>155640</td>\n",
       "      <td>24</td>\n",
       "      <td>6485</td>\n",
       "      <td>2016</td>\n",
       "      <td>8</td>\n",
       "      <td>4</td>\n",
       "      <td>1</td>\n",
       "      <td>57</td>\n",
       "      <td>0</td>\n",
       "      <td>0</td>\n",
       "      <td>0</td>\n",
       "      <td>0</td>\n",
       "      <td>0</td>\n",
       "      <td>0</td>\n",
       "      <td>0</td>\n",
       "      <td>1</td>\n",
       "      <td>1</td>\n",
       "      <td>0</td>\n",
       "      <td>0</td>\n",
       "      <td>0</td>\n",
       "    </tr>\n",
       "    <tr>\n",
       "      <th>671</th>\n",
       "      <td>466608</td>\n",
       "      <td>48</td>\n",
       "      <td>9721</td>\n",
       "      <td>2017</td>\n",
       "      <td>6</td>\n",
       "      <td>13</td>\n",
       "      <td>46</td>\n",
       "      <td>53</td>\n",
       "      <td>0</td>\n",
       "      <td>1</td>\n",
       "      <td>0</td>\n",
       "      <td>0</td>\n",
       "      <td>0</td>\n",
       "      <td>1</td>\n",
       "      <td>0</td>\n",
       "      <td>0</td>\n",
       "      <td>0</td>\n",
       "      <td>0</td>\n",
       "      <td>0</td>\n",
       "      <td>1</td>\n",
       "    </tr>\n",
       "    <tr>\n",
       "      <th>533</th>\n",
       "      <td>228276</td>\n",
       "      <td>36</td>\n",
       "      <td>6341</td>\n",
       "      <td>2016</td>\n",
       "      <td>11</td>\n",
       "      <td>22</td>\n",
       "      <td>1</td>\n",
       "      <td>38</td>\n",
       "      <td>0</td>\n",
       "      <td>1</td>\n",
       "      <td>0</td>\n",
       "      <td>1</td>\n",
       "      <td>1</td>\n",
       "      <td>0</td>\n",
       "      <td>0</td>\n",
       "      <td>0</td>\n",
       "      <td>1</td>\n",
       "      <td>0</td>\n",
       "      <td>0</td>\n",
       "      <td>0</td>\n",
       "    </tr>\n",
       "    <tr>\n",
       "      <th>604</th>\n",
       "      <td>307200</td>\n",
       "      <td>60</td>\n",
       "      <td>5120</td>\n",
       "      <td>2017</td>\n",
       "      <td>5</td>\n",
       "      <td>2</td>\n",
       "      <td>1</td>\n",
       "      <td>37</td>\n",
       "      <td>0</td>\n",
       "      <td>0</td>\n",
       "      <td>1</td>\n",
       "      <td>1</td>\n",
       "      <td>1</td>\n",
       "      <td>0</td>\n",
       "      <td>0</td>\n",
       "      <td>0</td>\n",
       "      <td>0</td>\n",
       "      <td>1</td>\n",
       "      <td>0</td>\n",
       "      <td>0</td>\n",
       "    </tr>\n",
       "    <tr>\n",
       "      <th>...</th>\n",
       "      <td>...</td>\n",
       "      <td>...</td>\n",
       "      <td>...</td>\n",
       "      <td>...</td>\n",
       "      <td>...</td>\n",
       "      <td>...</td>\n",
       "      <td>...</td>\n",
       "      <td>...</td>\n",
       "      <td>...</td>\n",
       "      <td>...</td>\n",
       "      <td>...</td>\n",
       "      <td>...</td>\n",
       "      <td>...</td>\n",
       "      <td>...</td>\n",
       "      <td>...</td>\n",
       "      <td>...</td>\n",
       "      <td>...</td>\n",
       "      <td>...</td>\n",
       "      <td>...</td>\n",
       "      <td>...</td>\n",
       "    </tr>\n",
       "    <tr>\n",
       "      <th>664</th>\n",
       "      <td>428784</td>\n",
       "      <td>48</td>\n",
       "      <td>8933</td>\n",
       "      <td>2018</td>\n",
       "      <td>2</td>\n",
       "      <td>13</td>\n",
       "      <td>46</td>\n",
       "      <td>63</td>\n",
       "      <td>0</td>\n",
       "      <td>1</td>\n",
       "      <td>0</td>\n",
       "      <td>1</td>\n",
       "      <td>0</td>\n",
       "      <td>0</td>\n",
       "      <td>0</td>\n",
       "      <td>1</td>\n",
       "      <td>0</td>\n",
       "      <td>0</td>\n",
       "      <td>0</td>\n",
       "      <td>1</td>\n",
       "    </tr>\n",
       "    <tr>\n",
       "      <th>372</th>\n",
       "      <td>136344</td>\n",
       "      <td>24</td>\n",
       "      <td>5681</td>\n",
       "      <td>2018</td>\n",
       "      <td>5</td>\n",
       "      <td>21</td>\n",
       "      <td>46</td>\n",
       "      <td>35</td>\n",
       "      <td>0</td>\n",
       "      <td>1</td>\n",
       "      <td>0</td>\n",
       "      <td>0</td>\n",
       "      <td>1</td>\n",
       "      <td>0</td>\n",
       "      <td>0</td>\n",
       "      <td>0</td>\n",
       "      <td>0</td>\n",
       "      <td>0</td>\n",
       "      <td>1</td>\n",
       "      <td>0</td>\n",
       "    </tr>\n",
       "    <tr>\n",
       "      <th>204</th>\n",
       "      <td>74772</td>\n",
       "      <td>36</td>\n",
       "      <td>2077</td>\n",
       "      <td>2017</td>\n",
       "      <td>7</td>\n",
       "      <td>1</td>\n",
       "      <td>64</td>\n",
       "      <td>39</td>\n",
       "      <td>0</td>\n",
       "      <td>1</td>\n",
       "      <td>0</td>\n",
       "      <td>1</td>\n",
       "      <td>1</td>\n",
       "      <td>0</td>\n",
       "      <td>0</td>\n",
       "      <td>0</td>\n",
       "      <td>0</td>\n",
       "      <td>0</td>\n",
       "      <td>0</td>\n",
       "      <td>0</td>\n",
       "    </tr>\n",
       "    <tr>\n",
       "      <th>53</th>\n",
       "      <td>30060</td>\n",
       "      <td>60</td>\n",
       "      <td>501</td>\n",
       "      <td>2016</td>\n",
       "      <td>6</td>\n",
       "      <td>15</td>\n",
       "      <td>64</td>\n",
       "      <td>48</td>\n",
       "      <td>0</td>\n",
       "      <td>1</td>\n",
       "      <td>0</td>\n",
       "      <td>1</td>\n",
       "      <td>0</td>\n",
       "      <td>1</td>\n",
       "      <td>0</td>\n",
       "      <td>0</td>\n",
       "      <td>0</td>\n",
       "      <td>0</td>\n",
       "      <td>0</td>\n",
       "      <td>0</td>\n",
       "    </tr>\n",
       "    <tr>\n",
       "      <th>294</th>\n",
       "      <td>97980</td>\n",
       "      <td>60</td>\n",
       "      <td>1633</td>\n",
       "      <td>2017</td>\n",
       "      <td>8</td>\n",
       "      <td>12</td>\n",
       "      <td>1</td>\n",
       "      <td>19</td>\n",
       "      <td>0</td>\n",
       "      <td>1</td>\n",
       "      <td>0</td>\n",
       "      <td>0</td>\n",
       "      <td>0</td>\n",
       "      <td>0</td>\n",
       "      <td>1</td>\n",
       "      <td>0</td>\n",
       "      <td>0</td>\n",
       "      <td>0</td>\n",
       "      <td>1</td>\n",
       "      <td>0</td>\n",
       "    </tr>\n",
       "  </tbody>\n",
       "</table>\n",
       "<p>579 rows × 20 columns</p>\n",
       "</div>"
      ],
      "text/plain": [
       "     amount  duration  payments  year  month  day  location  age  status_B  \\\n",
       "309  100800        24      4200  2017      8   15         1   61         0   \n",
       "409  155640        24      6485  2016      8    4         1   57         0   \n",
       "671  466608        48      9721  2017      6   13        46   53         0   \n",
       "533  228276        36      6341  2016     11   22         1   38         0   \n",
       "604  307200        60      5120  2017      5    2         1   37         0   \n",
       "..      ...       ...       ...   ...    ...  ...       ...  ...       ...   \n",
       "664  428784        48      8933  2018      2   13        46   63         0   \n",
       "372  136344        24      5681  2018      5   21        46   35         0   \n",
       "204   74772        36      2077  2017      7    1        64   39         0   \n",
       "53    30060        60       501  2016      6   15        64   48         0   \n",
       "294   97980        60      1633  2017      8   12         1   19         0   \n",
       "\n",
       "     status_C  status_D  sex_Male  Age_Group_35-45  Age_Group_45-55  \\\n",
       "309         0         1         1                0                0   \n",
       "409         0         0         0                0                0   \n",
       "671         1         0         0                0                1   \n",
       "533         1         0         1                1                0   \n",
       "604         0         1         1                1                0   \n",
       "..        ...       ...       ...              ...              ...   \n",
       "664         1         0         1                0                0   \n",
       "372         1         0         0                1                0   \n",
       "204         1         0         1                1                0   \n",
       "53          1         0         1                0                1   \n",
       "294         1         0         0                0                0   \n",
       "\n",
       "     Age_Group_<25  Age_Group_>55  Amount_Group_150K-250K  \\\n",
       "309              0              1                       0   \n",
       "409              0              1                       1   \n",
       "671              0              0                       0   \n",
       "533              0              0                       1   \n",
       "604              0              0                       0   \n",
       "..             ...            ...                     ...   \n",
       "664              0              1                       0   \n",
       "372              0              0                       0   \n",
       "204              0              0                       0   \n",
       "53               0              0                       0   \n",
       "294              1              0                       0   \n",
       "\n",
       "     Amount_Group_250K-350K  Amount_Group_75K-150K  Amount_Group_>350K  \n",
       "309                       0                      1                   0  \n",
       "409                       0                      0                   0  \n",
       "671                       0                      0                   1  \n",
       "533                       0                      0                   0  \n",
       "604                       1                      0                   0  \n",
       "..                      ...                    ...                 ...  \n",
       "664                       0                      0                   1  \n",
       "372                       0                      1                   0  \n",
       "204                       0                      0                   0  \n",
       "53                        0                      0                   0  \n",
       "294                       0                      1                   0  \n",
       "\n",
       "[579 rows x 20 columns]"
      ]
     },
     "execution_count": 41,
     "metadata": {},
     "output_type": "execute_result"
    }
   ],
   "source": [
    "x_train"
   ]
  },
  {
   "cell_type": "markdown",
   "id": "efa66dc1",
   "metadata": {},
   "source": [
    "## Model_1"
   ]
  },
  {
   "cell_type": "code",
   "execution_count": 32,
   "id": "124efc65",
   "metadata": {},
   "outputs": [
    {
     "name": "stdout",
     "output_type": "stream",
     "text": [
      "Best: 0.892939 using {'C': 0.1, 'penalty': 'l2', 'solver': 'lbfgs'}\n",
      "0.784138 (0.008818) with: {'C': 0.01, 'penalty': 'l2', 'solver': 'sag'}\n",
      "0.891199 (0.012835) with: {'C': 0.01, 'penalty': 'l2', 'solver': 'lbfgs'}\n",
      "0.784138 (0.008818) with: {'C': 0.1, 'penalty': 'l2', 'solver': 'sag'}\n",
      "0.892939 (0.011527) with: {'C': 0.1, 'penalty': 'l2', 'solver': 'lbfgs'}\n",
      "0.784138 (0.008818) with: {'C': 0.2, 'penalty': 'l2', 'solver': 'sag'}\n",
      "0.887751 (0.009285) with: {'C': 0.2, 'penalty': 'l2', 'solver': 'lbfgs'}\n",
      "0.784138 (0.008818) with: {'C': 0.5, 'penalty': 'l2', 'solver': 'sag'}\n",
      "0.891199 (0.013945) with: {'C': 0.5, 'penalty': 'l2', 'solver': 'lbfgs'}\n",
      "0.784138 (0.008818) with: {'C': 0.8, 'penalty': 'l2', 'solver': 'sag'}\n",
      "0.892924 (0.013967) with: {'C': 0.8, 'penalty': 'l2', 'solver': 'lbfgs'}\n",
      "0.784138 (0.008818) with: {'C': 10, 'penalty': 'l2', 'solver': 'sag'}\n",
      "0.889475 (0.016646) with: {'C': 10, 'penalty': 'l2', 'solver': 'lbfgs'}\n"
     ]
    },
    {
     "name": "stderr",
     "output_type": "stream",
     "text": [
      "C:\\Users\\Amro Ewes\\anaconda3\\lib\\site-packages\\sklearn\\linear_model\\_logistic.py:444: ConvergenceWarning: lbfgs failed to converge (status=1):\n",
      "STOP: TOTAL NO. of ITERATIONS REACHED LIMIT.\n",
      "\n",
      "Increase the number of iterations (max_iter) or scale the data as shown in:\n",
      "    https://scikit-learn.org/stable/modules/preprocessing.html\n",
      "Please also refer to the documentation for alternative solver options:\n",
      "    https://scikit-learn.org/stable/modules/linear_model.html#logistic-regression\n",
      "  n_iter_i = _check_optimize_result(\n"
     ]
    }
   ],
   "source": [
    "model_1 = LogisticRegression(max_iter=300)\n",
    "solvers = ['sag','lbfgs']\n",
    "penalty = ['l2']\n",
    "c_values = [0.01,0.1,0.2,0.5,0.8,10]\n",
    "\n",
    "\n",
    "grid = dict(solver=solvers,penalty=penalty,C=c_values)\n",
    "#cv = RepeatedStratifiedKFold(n_splits=10, n_repeats=3, random_state=1)\n",
    "grid_search = GridSearchCV(estimator=model_1, param_grid=grid, n_jobs=-1, cv=5, scoring='accuracy',error_score=0)\n",
    "grid_result = grid_search.fit(x_train, y_train)\n",
    "\n",
    "\n",
    "print(\"Best: %f using %s\" % (grid_result.best_score_, grid_result.best_params_))\n",
    "means = grid_result.cv_results_['mean_test_score']\n",
    "stds = grid_result.cv_results_['std_test_score']\n",
    "params = grid_result.cv_results_['params']\n",
    "\n",
    "\n",
    "for mean, stdev, param in zip(means, stds, params):\n",
    "    print(\"%f (%f) with: %r\" % (mean, stdev, param))"
   ]
  },
  {
   "cell_type": "code",
   "execution_count": 33,
   "id": "248f457b",
   "metadata": {},
   "outputs": [
    {
     "name": "stdout",
     "output_type": "stream",
     "text": [
      "                    precision    recall  f1-score   support\n",
      "\n",
      "               car       0.67      1.00      0.80         2\n",
      "debt_consolidation       0.50      0.89      0.64         9\n",
      "              home       1.00      0.98      0.99        86\n",
      "  home_improvement       0.00      0.00      0.00         6\n",
      "\n",
      "          accuracy                           0.91       103\n",
      "         macro avg       0.54      0.72      0.61       103\n",
      "      weighted avg       0.89      0.91      0.90       103\n",
      "\n",
      "91.2621359223301\n",
      "['car', 'debt_consolidation', 'home', 'home_improvement']\n"
     ]
    },
    {
     "name": "stderr",
     "output_type": "stream",
     "text": [
      "C:\\Users\\Amro Ewes\\anaconda3\\lib\\site-packages\\sklearn\\linear_model\\_logistic.py:444: ConvergenceWarning: lbfgs failed to converge (status=1):\n",
      "STOP: TOTAL NO. of ITERATIONS REACHED LIMIT.\n",
      "\n",
      "Increase the number of iterations (max_iter) or scale the data as shown in:\n",
      "    https://scikit-learn.org/stable/modules/preprocessing.html\n",
      "Please also refer to the documentation for alternative solver options:\n",
      "    https://scikit-learn.org/stable/modules/linear_model.html#logistic-regression\n",
      "  n_iter_i = _check_optimize_result(\n",
      "C:\\Users\\Amro Ewes\\anaconda3\\lib\\site-packages\\sklearn\\metrics\\_classification.py:1327: UndefinedMetricWarning: Precision and F-score are ill-defined and being set to 0.0 in labels with no predicted samples. Use `zero_division` parameter to control this behavior.\n",
      "  _warn_prf(average, modifier, msg_start, len(result))\n",
      "C:\\Users\\Amro Ewes\\anaconda3\\lib\\site-packages\\sklearn\\metrics\\_classification.py:1327: UndefinedMetricWarning: Precision and F-score are ill-defined and being set to 0.0 in labels with no predicted samples. Use `zero_division` parameter to control this behavior.\n",
      "  _warn_prf(average, modifier, msg_start, len(result))\n",
      "C:\\Users\\Amro Ewes\\anaconda3\\lib\\site-packages\\sklearn\\metrics\\_classification.py:1327: UndefinedMetricWarning: Precision and F-score are ill-defined and being set to 0.0 in labels with no predicted samples. Use `zero_division` parameter to control this behavior.\n",
      "  _warn_prf(average, modifier, msg_start, len(result))\n"
     ]
    }
   ],
   "source": [
    "model_1 = LogisticRegression(C=0.1,penalty ='l2',solver = 'lbfgs',multi_class='multinomial')\n",
    "model_1.fit(x_train,y_train)\n",
    "target_1 = model_1.predict(x_test)\n",
    "print(classification_report(y_test,target_1,target_names=['car', 'debt_consolidation', 'home', 'home_improvement']))\n",
    "print(accuracy_score(y_test,target_1)*100)\n",
    "print(list(le.inverse_transform([0,1,2,3])))"
   ]
  },
  {
   "cell_type": "markdown",
   "id": "0a9c6135",
   "metadata": {},
   "source": [
    "## Model_2"
   ]
  },
  {
   "cell_type": "code",
   "execution_count": 34,
   "id": "130f46bb",
   "metadata": {},
   "outputs": [
    {
     "name": "stdout",
     "output_type": "stream",
     "text": [
      "                    precision    recall  f1-score   support\n",
      "\n",
      "               car       0.67      1.00      0.80         2\n",
      "debt_consolidation       0.50      0.56      0.53         9\n",
      "              home       0.97      1.00      0.98        86\n",
      "  home_improvement       0.00      0.00      0.00         6\n",
      "\n",
      "          accuracy                           0.90       103\n",
      "         macro avg       0.53      0.64      0.58       103\n",
      "      weighted avg       0.86      0.90      0.88       103\n",
      "\n",
      "90.29126213592234\n",
      "['car' 'debt_consolidation' 'home' 'home_improvement']\n"
     ]
    }
   ],
   "source": [
    "model_2 = RandomForestClassifier(random_state=1234)\n",
    "model_2.fit(x_train,y_train)\n",
    "target_2 = model_2.predict(x_test)\n",
    "print(classification_report(y_test,target_2,target_names=['car' ,'debt_consolidation' ,'home' ,'home_improvement']))\n",
    "print(accuracy_score(y_test,target_2)*100)\n",
    "print(le.inverse_transform([0,1,2,3]))"
   ]
  },
  {
   "cell_type": "markdown",
   "id": "7ad7cd6a",
   "metadata": {},
   "source": [
    "## Model_3"
   ]
  },
  {
   "cell_type": "code",
   "execution_count": 35,
   "id": "1573e63c",
   "metadata": {},
   "outputs": [
    {
     "name": "stdout",
     "output_type": "stream",
     "text": [
      "                    precision    recall  f1-score   support\n",
      "\n",
      "               car       0.67      1.00      0.80         2\n",
      "debt_consolidation       0.45      0.56      0.50         9\n",
      "              home       0.95      0.98      0.97        86\n",
      "  home_improvement       1.00      0.17      0.29         6\n",
      "\n",
      "          accuracy                           0.89       103\n",
      "         macro avg       0.77      0.67      0.64       103\n",
      "      weighted avg       0.91      0.89      0.88       103\n",
      "\n",
      "89.32038834951457\n"
     ]
    }
   ],
   "source": [
    "model_3 = KNeighborsClassifier(n_neighbors=5, metric='minkowski', p=2)\n",
    "model_3.fit(x_train, y_train)\n",
    "target_3 = model_3.predict(x_test)\n",
    "print(classification_report(y_test,target_3,target_names=['car' ,'debt_consolidation' ,'home' ,'home_improvement']))\n",
    "print(accuracy_score(y_test,target_3)*100)"
   ]
  },
  {
   "cell_type": "markdown",
   "id": "c97fbd1e",
   "metadata": {},
   "source": [
    "2. Create a model to predict the transaction \"amount category\" (10 points)\n",
    "a. Try out at least 3 different models, and comment on why you chose these models\n",
    "b. Measure accuracy (at least one model should have accuracy of 80% or higher)"
   ]
  },
  {
   "cell_type": "code",
   "execution_count": 36,
   "id": "c5d9e9bf",
   "metadata": {},
   "outputs": [],
   "source": [
    "raw_data = loan_data.copy()\n",
    "features = ['amount', 'duration', 'payments', 'status', 'year',\n",
    "       'month', 'day', 'location', 'purpose', 'sex', 'age',\n",
    "       'Age_Group', 'Amount_Group']\n",
    "raw_data = raw_data[features]"
   ]
  },
  {
   "cell_type": "code",
   "execution_count": 37,
   "id": "5b747e14",
   "metadata": {},
   "outputs": [
    {
     "data": {
      "text/plain": [
       "array([0, 3, 1, 2, 4])"
      ]
     },
     "execution_count": 37,
     "metadata": {},
     "output_type": "execute_result"
    }
   ],
   "source": [
    "le.fit(raw_data['Amount_Group'])\n",
    "raw_data['Amount_Group'] = le.fit_transform(raw_data['Amount_Group'])\n",
    "raw_data['Amount_Group'].unique()"
   ]
  },
  {
   "cell_type": "code",
   "execution_count": 38,
   "id": "fab664e0",
   "metadata": {},
   "outputs": [],
   "source": [
    "raw_data = pd.get_dummies(raw_data,drop_first=True)\n",
    "inputs = raw_data.drop('Amount_Group',axis=1)\n",
    "target = raw_data['Amount_Group']\n",
    "x_train,x_test,y_train,y_test = train_test_split(inputs,target,test_size=0.15,random_state=1234)"
   ]
  },
  {
   "cell_type": "markdown",
   "id": "60e0afc5",
   "metadata": {},
   "source": [
    "## Model_1 (Amount_Category)"
   ]
  },
  {
   "cell_type": "code",
   "execution_count": 39,
   "id": "a5c30cc8",
   "metadata": {},
   "outputs": [
    {
     "name": "stdout",
     "output_type": "stream",
     "text": [
      "Best: 0.994813 using {'C': 10, 'penalty': 'l2', 'solver': 'lbfgs'}\n",
      "0.666702 (0.023019) with: {'C': 0.01, 'penalty': 'l2', 'solver': 'sag'}\n",
      "0.989640 (0.008444) with: {'C': 0.01, 'penalty': 'l2', 'solver': 'lbfgs'}\n",
      "0.666702 (0.023019) with: {'C': 0.1, 'penalty': 'l2', 'solver': 'sag'}\n",
      "0.989625 (0.010074) with: {'C': 0.1, 'penalty': 'l2', 'solver': 'lbfgs'}\n",
      "0.666702 (0.023019) with: {'C': 0.2, 'penalty': 'l2', 'solver': 'sag'}\n",
      "0.989625 (0.010074) with: {'C': 0.2, 'penalty': 'l2', 'solver': 'lbfgs'}\n",
      "0.666702 (0.023019) with: {'C': 0.5, 'penalty': 'l2', 'solver': 'sag'}\n",
      "0.991364 (0.009444) with: {'C': 0.5, 'penalty': 'l2', 'solver': 'lbfgs'}\n",
      "0.666702 (0.023019) with: {'C': 0.8, 'penalty': 'l2', 'solver': 'sag'}\n",
      "0.989640 (0.008444) with: {'C': 0.8, 'penalty': 'l2', 'solver': 'lbfgs'}\n",
      "0.666702 (0.023019) with: {'C': 10, 'penalty': 'l2', 'solver': 'sag'}\n",
      "0.994813 (0.004236) with: {'C': 10, 'penalty': 'l2', 'solver': 'lbfgs'}\n"
     ]
    },
    {
     "name": "stderr",
     "output_type": "stream",
     "text": [
      "C:\\Users\\Amro Ewes\\anaconda3\\lib\\site-packages\\sklearn\\linear_model\\_logistic.py:444: ConvergenceWarning: lbfgs failed to converge (status=1):\n",
      "STOP: TOTAL NO. of ITERATIONS REACHED LIMIT.\n",
      "\n",
      "Increase the number of iterations (max_iter) or scale the data as shown in:\n",
      "    https://scikit-learn.org/stable/modules/preprocessing.html\n",
      "Please also refer to the documentation for alternative solver options:\n",
      "    https://scikit-learn.org/stable/modules/linear_model.html#logistic-regression\n",
      "  n_iter_i = _check_optimize_result(\n"
     ]
    }
   ],
   "source": [
    "model_1 = LogisticRegression(max_iter=300)\n",
    "solvers = ['sag','lbfgs']\n",
    "penalty = ['l2']\n",
    "c_values = [0.01,0.1,0.2,0.5,0.8,10]\n",
    "\n",
    "\n",
    "grid = dict(solver=solvers,penalty=penalty,C=c_values)\n",
    "cv = RepeatedStratifiedKFold(n_splits=10, n_repeats=3, random_state=1)\n",
    "grid_search = GridSearchCV(estimator=model_1, param_grid=grid, n_jobs=-1, cv=5, scoring='accuracy',error_score=0)\n",
    "grid_result = grid_search.fit(x_train, y_train)\n",
    "\n",
    "\n",
    "print(\"Best: %f using %s\" % (grid_result.best_score_, grid_result.best_params_))\n",
    "means = grid_result.cv_results_['mean_test_score']\n",
    "stds = grid_result.cv_results_['std_test_score']\n",
    "params = grid_result.cv_results_['params']\n",
    "\n",
    "\n",
    "for mean, stdev, param in zip(means, stds, params):\n",
    "    print(\"%f (%f) with: %r\" % (mean, stdev, param))"
   ]
  },
  {
   "cell_type": "code",
   "execution_count": 40,
   "id": "2aed1374",
   "metadata": {},
   "outputs": [
    {
     "name": "stdout",
     "output_type": "stream",
     "text": [
      "              precision    recall  f1-score   support\n",
      "\n",
      "           0       1.00      1.00      1.00        30\n",
      "           1       1.00      1.00      1.00        26\n",
      "           2       0.77      0.67      0.71        15\n",
      "           3       1.00      1.00      1.00        26\n",
      "           4       0.38      0.50      0.43         6\n",
      "\n",
      "    accuracy                           0.92       103\n",
      "   macro avg       0.83      0.83      0.83       103\n",
      "weighted avg       0.93      0.92      0.93       103\n",
      "\n",
      "92.23300970873787\n",
      "['-75K', '150K-250K', '250K-350K', '75K-150K']\n"
     ]
    },
    {
     "name": "stderr",
     "output_type": "stream",
     "text": [
      "C:\\Users\\Amro Ewes\\anaconda3\\lib\\site-packages\\sklearn\\linear_model\\_logistic.py:444: ConvergenceWarning: lbfgs failed to converge (status=1):\n",
      "STOP: TOTAL NO. of ITERATIONS REACHED LIMIT.\n",
      "\n",
      "Increase the number of iterations (max_iter) or scale the data as shown in:\n",
      "    https://scikit-learn.org/stable/modules/preprocessing.html\n",
      "Please also refer to the documentation for alternative solver options:\n",
      "    https://scikit-learn.org/stable/modules/linear_model.html#logistic-regression\n",
      "  n_iter_i = _check_optimize_result(\n"
     ]
    }
   ],
   "source": [
    "model_1 = LogisticRegression(C=10,penalty ='l2',solver = 'lbfgs',multi_class='multinomial')\n",
    "model_1.fit(x_train,y_train)\n",
    "target_1 = model_1.predict(x_test)\n",
    "print(classification_report(y_test,target_1))\n",
    "print(accuracy_score(y_test,target_1)*100)\n",
    "print(list(le.inverse_transform([0,1,2,3])))"
   ]
  },
  {
   "cell_type": "markdown",
   "id": "7d7c450f",
   "metadata": {},
   "source": [
    "## Model_2"
   ]
  },
  {
   "cell_type": "code",
   "execution_count": 41,
   "id": "46c11b7a",
   "metadata": {},
   "outputs": [
    {
     "name": "stdout",
     "output_type": "stream",
     "text": [
      "              precision    recall  f1-score   support\n",
      "\n",
      "        -75K       1.00      1.00      1.00        30\n",
      "   150K-250K       0.93      1.00      0.96        26\n",
      "   250K-350K       0.93      0.87      0.90        15\n",
      "    75K-150K       1.00      1.00      1.00        26\n",
      "       >350K       1.00      0.83      0.91         6\n",
      "\n",
      "    accuracy                           0.97       103\n",
      "   macro avg       0.97      0.94      0.95       103\n",
      "weighted avg       0.97      0.97      0.97       103\n",
      "\n",
      "97.0873786407767\n",
      "['-75K' '150K-250K' '250K-350K' '75K-150K']\n"
     ]
    }
   ],
   "source": [
    "model_2 = RandomForestClassifier(random_state=1234)\n",
    "model_2.fit(x_train,y_train)\n",
    "target_2 = model_2.predict(x_test)\n",
    "print(classification_report(y_test,target_2,target_names=['-75K' ,'150K-250K' ,'250K-350K' ,'75K-150K' ,'>350K']))\n",
    "print(accuracy_score(y_test,target_2)*100)\n",
    "print(le.inverse_transform([0,1,2,3]))"
   ]
  },
  {
   "cell_type": "markdown",
   "id": "3dd10ba8",
   "metadata": {},
   "source": [
    "## Model_3"
   ]
  },
  {
   "cell_type": "code",
   "execution_count": 42,
   "id": "602a86a3",
   "metadata": {},
   "outputs": [
    {
     "name": "stdout",
     "output_type": "stream",
     "text": [
      "              precision    recall  f1-score   support\n",
      "\n",
      "        -75K       1.00      1.00      1.00        30\n",
      "   150K-250K       0.93      1.00      0.96        26\n",
      "   250K-350K       1.00      0.87      0.93        15\n",
      "    75K-150K       1.00      1.00      1.00        26\n",
      "       >350K       1.00      1.00      1.00         6\n",
      "\n",
      "    accuracy                           0.98       103\n",
      "   macro avg       0.99      0.97      0.98       103\n",
      "weighted avg       0.98      0.98      0.98       103\n",
      "\n",
      "98.05825242718447\n",
      "['-75K' '150K-250K' '250K-350K' '75K-150K' '>350K']\n"
     ]
    }
   ],
   "source": [
    "model_3 = KNeighborsClassifier(n_neighbors=5, metric='minkowski', p=2)\n",
    "model_3.fit(x_train, y_train)\n",
    "target_3 = model_3.predict(x_test)\n",
    "print(classification_report(y_test,target_3,target_names=['-75K' ,'150K-250K' ,'250K-350K' ,'75K-150K' ,'>350K']))\n",
    "print(accuracy_score(y_test,target_3)*100)\n",
    "print(le.inverse_transform([0,1,2,3,4]))"
   ]
  }
 ],
 "metadata": {
  "kernelspec": {
   "display_name": "Python 3 (ipykernel)",
   "language": "python",
   "name": "python3"
  },
  "language_info": {
   "codemirror_mode": {
    "name": "ipython",
    "version": 3
   },
   "file_extension": ".py",
   "mimetype": "text/x-python",
   "name": "python",
   "nbconvert_exporter": "python",
   "pygments_lexer": "ipython3",
   "version": "3.9.7"
  }
 },
 "nbformat": 4,
 "nbformat_minor": 5
}
